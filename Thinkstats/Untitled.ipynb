{
 "cells": [
  {
   "cell_type": "markdown",
   "id": "559dcbf8-6641-44ae-b852-7c932d83dfa5",
   "metadata": {},
   "source": [
    "For pregnancy records, we extract the following variables:\n",
    "\n",
    "'caseid' is the integer ID of the respondent.\n",
    "\n",
    "'prglength' is the integer duration of the pregnancy in weeks.\n",
    "\n",
    "'outcome' is an integer code for the outcome of the pregnancy. The code 1\n",
    "indicates a live birth.\n",
    "\n",
    "'birthord' is the integer birth order of each live birth; for example, the code\n",
    "for a first child is 1. For outcomes other than live birth, this field is\n",
    "blank.\n",
    "\n",
    "'finalwgt' is the statistical weight associated with the respondent. It is a\n",
    "floating-point value that indicates the number of people in the U.S.\n",
    "population this respondent represents. Members of oversampled\n",
    "groups have lower weights.    "
   ]
  },
  {
   "cell_type": "code",
   "execution_count": 7,
   "id": "940efe13-aab5-45e1-9c1b-bdeaaa277fd3",
   "metadata": {},
   "outputs": [],
   "source": [
    "import pandas as pd"
   ]
  },
  {
   "cell_type": "code",
   "execution_count": 15,
   "id": "c408223c-3abf-434c-b1f5-4a7886de2aaa",
   "metadata": {},
   "outputs": [],
   "source": [
    "data=pd.read_csv('2002FemPreg.dat.gz',compression='gzip',delimiter='\\t')"
   ]
  },
  {
   "cell_type": "markdown",
   "id": "423e9c4c-6cb8-4c9b-9f2d-764bd05b5af2",
   "metadata": {},
   "source": [
    "# Ex 1.3"
   ]
  },
  {
   "cell_type": "code",
   "execution_count": 3,
   "id": "071c8b20-340b-4153-98ca-f7f635e1a8e1",
   "metadata": {},
   "outputs": [
    {
     "name": "stdout",
     "output_type": "stream",
     "text": [
      "Number of pregnancies 13593\n"
     ]
    }
   ],
   "source": [
    "import survey\n",
    "table = survey.Pregnancies()\n",
    "table.ReadRecords()\n",
    "print('Number of pregnancies', len(table.records))"
   ]
  },
  {
   "cell_type": "markdown",
   "id": "640f5de9-d3dc-4e38-9136-6358f39f2bd8",
   "metadata": {},
   "source": [
    "## Q2\n",
    "Write a loop that iterates table and counts the number of live births.\n",
    "Find the documentation of outcome and confirm that your result is\n",
    "consistent with the summary in the documentation."
   ]
  },
  {
   "cell_type": "code",
   "execution_count": 20,
   "id": "f8528bf0-a8e2-470b-b63b-bbc0ad79bf51",
   "metadata": {},
   "outputs": [
    {
     "name": "stderr",
     "output_type": "stream",
     "text": [
      "IOPub data rate exceeded.\n",
      "The Jupyter server will temporarily stop sending output\n",
      "to the client in order to avoid crashing it.\n",
      "To change this limit, set the config variable\n",
      "`--ServerApp.iopub_data_rate_limit`.\n",
      "\n",
      "Current values:\n",
      "ServerApp.iopub_data_rate_limit=1000000.0 (bytes/sec)\n",
      "ServerApp.rate_limit_window=3.0 (secs)\n",
      "\n"
     ]
    }
   ],
   "source": [
    "for i in range(len(table.records)):\n",
    "    print(vars(table.records[i]))"
   ]
  },
  {
   "cell_type": "code",
   "execution_count": 23,
   "id": "06e80f16-366d-44b7-aab4-ba40edcb8d6d",
   "metadata": {},
   "outputs": [
    {
     "name": "stdout",
     "output_type": "stream",
     "text": [
      "{'caseid': 1, 'nbrnaliv': 1, 'babysex': 1, 'birthwgt_lb': 8, 'birthwgt_oz': 13, 'prglength': 39, 'outcome': 1, 'birthord': 1, 'agepreg': 0.33159999999999995, 'finalwgt': 6448.271111704751, 'totalwgt_oz': 141}\n",
      "{'caseid': 1, 'nbrnaliv': 1, 'babysex': 2, 'birthwgt_lb': 7, 'birthwgt_oz': 14, 'prglength': 39, 'outcome': 1, 'birthord': 2, 'agepreg': 0.3925, 'finalwgt': 6448.271111704751, 'totalwgt_oz': 126}\n",
      "{'caseid': 2, 'nbrnaliv': 3, 'babysex': 1, 'birthwgt_lb': 9, 'birthwgt_oz': 2, 'prglength': 39, 'outcome': 1, 'birthord': 1, 'agepreg': 0.1433, 'finalwgt': 12999.542264385902, 'totalwgt_oz': 146}\n",
      "{'caseid': 2, 'nbrnaliv': 1, 'babysex': 2, 'birthwgt_lb': 7, 'birthwgt_oz': 0, 'prglength': 39, 'outcome': 1, 'birthord': 2, 'agepreg': 0.1783, 'finalwgt': 12999.542264385902, 'totalwgt_oz': 112}\n",
      "{'caseid': 2, 'nbrnaliv': 1, 'babysex': 2, 'birthwgt_lb': 6, 'birthwgt_oz': 3, 'prglength': 39, 'outcome': 1, 'birthord': 3, 'agepreg': 0.1833, 'finalwgt': 12999.542264385902, 'totalwgt_oz': 99}\n"
     ]
    }
   ],
   "source": [
    "for i in range(5):  # print first 5 records\n",
    "    print(vars(table.records[i]))\n"
   ]
  },
  {
   "cell_type": "markdown",
   "id": "a4cb7c9d-963d-430d-8386-3cedac46b399",
   "metadata": {},
   "source": [
    "#### convert to dataframe"
   ]
  },
  {
   "cell_type": "markdown",
   "id": "e9424edf-61ae-4c88-8653-00be4a8e0e07",
   "metadata": {},
   "source": [
    "| Command               | What it does                              |\n",
    "| --------------------- | ----------------------------------------- |\n",
    "| `vars(obj)`           | Returns a dictionary of object attributes |\n",
    "| `print(vars(record))` | Shows all fields and values in the record |\n"
   ]
  },
  {
   "cell_type": "code",
   "execution_count": null,
   "id": "09b90fa5-fc7e-40ad-a878-69ca730edb89",
   "metadata": {},
   "outputs": [],
   "source": []
  },
  {
   "cell_type": "code",
   "execution_count": 26,
   "id": "52ef1360-a263-432b-81a2-6298a1fbe334",
   "metadata": {},
   "outputs": [
    {
     "data": {
      "text/html": [
       "<div>\n",
       "<style scoped>\n",
       "    .dataframe tbody tr th:only-of-type {\n",
       "        vertical-align: middle;\n",
       "    }\n",
       "\n",
       "    .dataframe tbody tr th {\n",
       "        vertical-align: top;\n",
       "    }\n",
       "\n",
       "    .dataframe thead th {\n",
       "        text-align: right;\n",
       "    }\n",
       "</style>\n",
       "<table border=\"1\" class=\"dataframe\">\n",
       "  <thead>\n",
       "    <tr style=\"text-align: right;\">\n",
       "      <th></th>\n",
       "      <th>caseid</th>\n",
       "      <th>nbrnaliv</th>\n",
       "      <th>babysex</th>\n",
       "      <th>birthwgt_lb</th>\n",
       "      <th>birthwgt_oz</th>\n",
       "      <th>prglength</th>\n",
       "      <th>outcome</th>\n",
       "      <th>birthord</th>\n",
       "      <th>agepreg</th>\n",
       "      <th>finalwgt</th>\n",
       "      <th>totalwgt_oz</th>\n",
       "    </tr>\n",
       "  </thead>\n",
       "  <tbody>\n",
       "    <tr>\n",
       "      <th>0</th>\n",
       "      <td>1</td>\n",
       "      <td>1</td>\n",
       "      <td>1</td>\n",
       "      <td>8</td>\n",
       "      <td>13</td>\n",
       "      <td>39</td>\n",
       "      <td>1</td>\n",
       "      <td>1</td>\n",
       "      <td>0.3316</td>\n",
       "      <td>6448.271112</td>\n",
       "      <td>141</td>\n",
       "    </tr>\n",
       "    <tr>\n",
       "      <th>1</th>\n",
       "      <td>1</td>\n",
       "      <td>1</td>\n",
       "      <td>2</td>\n",
       "      <td>7</td>\n",
       "      <td>14</td>\n",
       "      <td>39</td>\n",
       "      <td>1</td>\n",
       "      <td>2</td>\n",
       "      <td>0.3925</td>\n",
       "      <td>6448.271112</td>\n",
       "      <td>126</td>\n",
       "    </tr>\n",
       "    <tr>\n",
       "      <th>2</th>\n",
       "      <td>2</td>\n",
       "      <td>3</td>\n",
       "      <td>1</td>\n",
       "      <td>9</td>\n",
       "      <td>2</td>\n",
       "      <td>39</td>\n",
       "      <td>1</td>\n",
       "      <td>1</td>\n",
       "      <td>0.1433</td>\n",
       "      <td>12999.542264</td>\n",
       "      <td>146</td>\n",
       "    </tr>\n",
       "    <tr>\n",
       "      <th>3</th>\n",
       "      <td>2</td>\n",
       "      <td>1</td>\n",
       "      <td>2</td>\n",
       "      <td>7</td>\n",
       "      <td>0</td>\n",
       "      <td>39</td>\n",
       "      <td>1</td>\n",
       "      <td>2</td>\n",
       "      <td>0.1783</td>\n",
       "      <td>12999.542264</td>\n",
       "      <td>112</td>\n",
       "    </tr>\n",
       "    <tr>\n",
       "      <th>4</th>\n",
       "      <td>2</td>\n",
       "      <td>1</td>\n",
       "      <td>2</td>\n",
       "      <td>6</td>\n",
       "      <td>3</td>\n",
       "      <td>39</td>\n",
       "      <td>1</td>\n",
       "      <td>3</td>\n",
       "      <td>0.1833</td>\n",
       "      <td>12999.542264</td>\n",
       "      <td>99</td>\n",
       "    </tr>\n",
       "  </tbody>\n",
       "</table>\n",
       "</div>"
      ],
      "text/plain": [
       "   caseid nbrnaliv babysex birthwgt_lb birthwgt_oz  prglength  outcome  \\\n",
       "0       1        1       1           8          13         39        1   \n",
       "1       1        1       2           7          14         39        1   \n",
       "2       2        3       1           9           2         39        1   \n",
       "3       2        1       2           7           0         39        1   \n",
       "4       2        1       2           6           3         39        1   \n",
       "\n",
       "  birthord agepreg      finalwgt totalwgt_oz  \n",
       "0        1  0.3316   6448.271112         141  \n",
       "1        2  0.3925   6448.271112         126  \n",
       "2        1  0.1433  12999.542264         146  \n",
       "3        2  0.1783  12999.542264         112  \n",
       "4        3  0.1833  12999.542264          99  "
      ]
     },
     "execution_count": 26,
     "metadata": {},
     "output_type": "execute_result"
    }
   ],
   "source": [
    "import pandas as pd\n",
    "\n",
    "df = pd.DataFrame([vars(r) for r in table.records])\n",
    "df.head()"
   ]
  },
  {
   "cell_type": "markdown",
   "id": "9a03bd44-b8c4-490c-8708-f0fa4cbff9db",
   "metadata": {},
   "source": [
    "#### Ans"
   ]
  },
  {
   "cell_type": "code",
   "execution_count": 35,
   "id": "febc5787-b093-4bfb-afd7-4d928a8d95a6",
   "metadata": {},
   "outputs": [
    {
     "name": "stdout",
     "output_type": "stream",
     "text": [
      "18296\n",
      "18296\n"
     ]
    }
   ],
   "source": [
    "count=0\n",
    "for i in table.records:\n",
    "    if i.outcome==1:\n",
    "        count+=1\n",
    "print(count) \n",
    "\n",
    "# ÷using pandas\n",
    "print(len(df[df['outcome']==1]))"
   ]
  },
  {
   "cell_type": "markdown",
   "id": "02d4566c-21e9-441a-a0f4-1897445c0573",
   "metadata": {},
   "source": [
    "## Q3"
   ]
  },
  {
   "cell_type": "markdown",
   "id": "dab9a406-3801-4043-be1d-4b3f22b423ff",
   "metadata": {},
   "source": [
    "Modify the loop to partition the live birth records into two groups, one\n",
    "for first babies and one for the others. Again, read the documentation\n",
    "of birthord to see if your results are consistent.\n",
    "When you are working with a new dataset, these kinds of checks\n",
    "are useful for finding errors and inconsistencies in the data, detect-\n",
    "ing bugs in your program, and checking your understanding of the\n",
    "way the fields are encoded."
   ]
  },
  {
   "cell_type": "code",
   "execution_count": 37,
   "id": "de89187b-d846-4ec5-8f6e-0683a8e35f22",
   "metadata": {},
   "outputs": [
    {
     "name": "stdout",
     "output_type": "stream",
     "text": [
      "8826\n",
      "9470\n",
      "8826\n",
      "9470\n"
     ]
    }
   ],
   "source": [
    "live=0\n",
    "oth=0\n",
    "for i in table.records:\n",
    "    if i.outcome==1 and i.birthord==1:\n",
    "        live+=1\n",
    "    elif i.outcome==1:\n",
    "        oth+=1\n",
    "print(live)\n",
    "print(oth)\n",
    "\n",
    "# ÷using pandas\n",
    "print(len(df[(df['outcome']==1)&(df['birthord']==1)]))\n",
    "print(len(df[(df['outcome']==1)&(df['birthord']!=1)]))\n"
   ]
  },
  {
   "cell_type": "markdown",
   "id": "662b2fcd-b763-48fb-aca2-1b10258fb020",
   "metadata": {},
   "source": [
    "## Q4"
   ]
  },
  {
   "cell_type": "markdown",
   "id": "2f71a955-77dd-44d2-92a3-21f9118b55d6",
   "metadata": {},
   "source": [
    "Compute the average pregnancy length (in weeks) for first babies and\n",
    "others. Is there a difference between the groups? How big is it?"
   ]
  },
  {
   "cell_type": "code",
   "execution_count": null,
   "id": "be6b7424-c1ef-4b61-8593-6c9dd0cf1b91",
   "metadata": {},
   "outputs": [],
   "source": []
  },
  {
   "cell_type": "code",
   "execution_count": null,
   "id": "b646e55e-476f-40a1-8e3b-b91a61a9b305",
   "metadata": {},
   "outputs": [],
   "source": []
  },
  {
   "cell_type": "code",
   "execution_count": null,
   "id": "363a2c03-7b31-430b-beab-4fccb7f3d70c",
   "metadata": {},
   "outputs": [],
   "source": []
  }
 ],
 "metadata": {
  "kernelspec": {
   "display_name": "Python 3 (ipykernel)",
   "language": "python",
   "name": "python3"
  },
  "language_info": {
   "codemirror_mode": {
    "name": "ipython",
    "version": 3
   },
   "file_extension": ".py",
   "mimetype": "text/x-python",
   "name": "python",
   "nbconvert_exporter": "python",
   "pygments_lexer": "ipython3",
   "version": "3.10.18"
  }
 },
 "nbformat": 4,
 "nbformat_minor": 5
}
