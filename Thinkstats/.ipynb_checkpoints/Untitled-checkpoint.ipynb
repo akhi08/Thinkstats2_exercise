{
 "cells": [
  {
   "cell_type": "code",
   "execution_count": 7,
   "id": "940efe13-aab5-45e1-9c1b-bdeaaa277fd3",
   "metadata": {},
   "outputs": [],
   "source": [
    "import pandas as pd"
   ]
  },
  {
   "cell_type": "code",
   "execution_count": 15,
   "id": "c408223c-3abf-434c-b1f5-4a7886de2aaa",
   "metadata": {},
   "outputs": [],
   "source": [
    "data=pd.read_csv('2002FemPreg.dat.gz',compression='gzip',delimiter='\\t')"
   ]
  },
  {
   "cell_type": "markdown",
   "id": "423e9c4c-6cb8-4c9b-9f2d-764bd05b5af2",
   "metadata": {},
   "source": [
    "# Ex 1.3"
   ]
  },
  {
   "cell_type": "code",
   "execution_count": 3,
   "id": "071c8b20-340b-4153-98ca-f7f635e1a8e1",
   "metadata": {},
   "outputs": [
    {
     "name": "stdout",
     "output_type": "stream",
     "text": [
      "Number of pregnancies 13593\n"
     ]
    }
   ],
   "source": [
    "import survey\n",
    "table = survey.Pregnancies()\n",
    "table.ReadRecords()\n",
    "print('Number of pregnancies', len(table.records))"
   ]
  },
  {
   "cell_type": "markdown",
   "id": "640f5de9-d3dc-4e38-9136-6358f39f2bd8",
   "metadata": {},
   "source": [
    "## Q2\n",
    "Write a loop that iterates table and counts the number of live births.\n",
    "Find the documentation of outcome and confirm that your result is\n",
    "consistent with the summary in the documentation."
   ]
  },
  {
   "cell_type": "code",
   "execution_count": 18,
   "id": "f8528bf0-a8e2-470b-b63b-bbc0ad79bf51",
   "metadata": {},
   "outputs": [],
   "source": [
    "table.ReadRecords()"
   ]
  },
  {
   "cell_type": "code",
   "execution_count": null,
   "id": "06e80f16-366d-44b7-aab4-ba40edcb8d6d",
   "metadata": {},
   "outputs": [],
   "source": []
  }
 ],
 "metadata": {
  "kernelspec": {
   "display_name": "Python 3 (ipykernel)",
   "language": "python",
   "name": "python3"
  },
  "language_info": {
   "codemirror_mode": {
    "name": "ipython",
    "version": 3
   },
   "file_extension": ".py",
   "mimetype": "text/x-python",
   "name": "python",
   "nbconvert_exporter": "python",
   "pygments_lexer": "ipython3",
   "version": "3.10.18"
  }
 },
 "nbformat": 4,
 "nbformat_minor": 5
}
