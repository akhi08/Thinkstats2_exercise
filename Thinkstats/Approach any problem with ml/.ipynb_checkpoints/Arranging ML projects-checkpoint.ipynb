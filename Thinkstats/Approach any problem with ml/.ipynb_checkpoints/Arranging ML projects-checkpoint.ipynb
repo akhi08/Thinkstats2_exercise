{
 "cells": [
  {
   "cell_type": "raw",
   "id": "9938d9a8-6d11-4922-9225-8b74214366f2",
   "metadata": {},
   "source": [
    "├── input\n",
    "│ ├── train.csv\n",
    "│ └── test.csv\n",
    "├── src\n",
    "│ ├── create_folds.py\n",
    "│ ├── train.py\n",
    "│ ├── inference.py\n",
    "│ ├── models.py\n",
    "│ ├── config.py\n",
    "│ └── model_dispatcher.py\n",
    "├── models\n",
    "│ ├── model_rf.bin\n",
    "│ └── model_et.bin\n",
    "├── notebooks\n",
    "│ ├── exploration.ipynb\n",
    "│ └── check_data.ipynb\n",
    "├── README.md\n",
    "├──LICENSE\n"
   ]
  },
  {
   "cell_type": "code",
   "execution_count": null,
   "id": "df55e828-2584-49d3-b790-f7ce601b02d2",
   "metadata": {},
   "outputs": [],
   "source": []
  }
 ],
 "metadata": {
  "kernelspec": {
   "display_name": "Python 3 (ipykernel)",
   "language": "python",
   "name": "python3"
  },
  "language_info": {
   "codemirror_mode": {
    "name": "ipython",
    "version": 3
   },
   "file_extension": ".py",
   "mimetype": "text/x-python",
   "name": "python",
   "nbconvert_exporter": "python",
   "pygments_lexer": "ipython3",
   "version": "3.10.18"
  }
 },
 "nbformat": 4,
 "nbformat_minor": 5
}
