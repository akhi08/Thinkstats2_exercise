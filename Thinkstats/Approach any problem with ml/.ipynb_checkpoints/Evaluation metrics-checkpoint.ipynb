{
 "cells": [
  {
   "cell_type": "code",
   "execution_count": 8,
   "id": "b75432d3-8b27-452d-90d7-5696a301d8b4",
   "metadata": {},
   "outputs": [],
   "source": [
    "# git commands\n",
    "# git status\n",
    "# git add .\n",
    "# git commit -m \"comments\"\n",
    "# git push main origin\n"
   ]
  },
  {
   "cell_type": "markdown",
   "id": "5e6280c3-e4d3-41c4-a858-a8df13258cae",
   "metadata": {},
   "source": [
    "### Classification Metrics"
   ]
  },
  {
   "cell_type": "raw",
   "id": "450531d2-6ac2-4121-8dc1-8573ad185816",
   "metadata": {},
   "source": [
    "If we talk about classification problems, the most common metrics used are:\n",
    "- Accuracy\n",
    "- Precision (P)\n",
    "- Recall (R)\n",
    "- F1 score (F1)\n",
    "- Area under the ROC (Receiver Operating Characteristic) curve or simply\n",
    "AUC (AUC)\n",
    "- Log loss\n",
    "- Precision at k (P@k)\n",
    "- Average precision at k (AP@k)\n",
    "- Mean average precision at k (MAP@k)\n",
    "\n"
   ]
  },
  {
   "cell_type": "markdown",
   "id": "69c7ea81-8361-4dd4-be6f-03e6884755cf",
   "metadata": {},
   "source": [
    "### Regression Metrics"
   ]
  },
  {
   "cell_type": "raw",
   "id": "f79b6ab0-9b91-428a-9dc8-c0c567beb539",
   "metadata": {},
   "source": [
    "When it comes to regression, the most commonly used evaluation metrics are:\n",
    "- Mean absolute error (MAE)\n",
    "- Mean squared error (MSE)\n",
    "- Root mean squared error (RMSE)\n",
    "- Root mean squared logarithmic error (RMSLE)\n",
    "- Mean percentage error (MPE)\n",
    "- Mean absolute percentage error (MAPE)\n",
    "- R2"
   ]
  },
  {
   "cell_type": "markdown",
   "id": "4ebcbc33-302b-4532-9dda-ca6fdef13450",
   "metadata": {},
   "source": [
    "#### E.g Accuracy Metrics for classification"
   ]
  },
  {
   "cell_type": "raw",
   "id": "21451f6e-8fda-4e3f-9959-bd8a5ee05927",
   "metadata": {},
   "source": [
    "- Accuracy \n",
    " : defines how accurate your model is\n",
    "-- When we have an equal number of positive and negative samples in a binary\n",
    "classification metric, we generally use accuracy, precision, recall and f1\n",
    "-- if dataset is skewed, i.e., the number\n",
    "of samples in one class outnumber the number of samples in other class by a lot. In\n",
    "these kinds of cases, it is not advisable to use accuracy as an evaluation metric as it\n",
    "is not representative of the data. "
   ]
  },
  {
   "cell_type": "code",
   "execution_count": 5,
   "id": "ea8275e9-4e7d-43f7-80c8-eb5a7b19a163",
   "metadata": {},
   "outputs": [],
   "source": [
    "def accuracy(y_true, y_pred):\n",
    "    \"\"\"\n",
    "    Function to calculate accuracy\n",
    "    :param y_true: list of true values\n",
    "    :param y_pred: list of predicted values\n",
    "    :return: accuracy score\n",
    "    \"\"\"\n",
    "# initialize a simple counter for correct predictions\n",
    "    correct_counter = 0\n",
    "# loop over all elements of y_true\n",
    "# and y_pred \"together\"\n",
    "    for yt, yp in zip(y_true, y_pred):\n",
    "        if yt == yp:\n",
    "# if prediction is equal to truth, increase the counter\n",
    "            correct_counter += 1\n",
    "# return accuracy\n",
    "# which is correct predictions over the number of samples\n",
    "    return correct_counter / len(y_true)"
   ]
  },
  {
   "cell_type": "markdown",
   "id": "de7b938f-514f-43a2-9772-513e1d75da70",
   "metadata": {},
   "source": [
    "- using scikit learn"
   ]
  },
  {
   "cell_type": "code",
   "execution_count": 6,
   "id": "b2c52e46-3e82-47df-87a6-0cc11e9eaaa5",
   "metadata": {},
   "outputs": [
    {
     "data": {
      "text/plain": [
       "0.625"
      ]
     },
     "execution_count": 6,
     "metadata": {},
     "output_type": "execute_result"
    }
   ],
   "source": [
    "from sklearn import metrics\n",
    "l1 = [0,1,1,1,0,0,0,1]\n",
    "l2 = [0,1,0,1,0,1,0,0]\n",
    "metrics.accuracy_score(l1, l2)"
   ]
  },
  {
   "cell_type": "markdown",
   "id": "ccc4c2cf-2618-40f9-bf71-2b8458cd6192",
   "metadata": {},
   "source": [
    "#### E.g Precision"
   ]
  },
  {
   "cell_type": "markdown",
   "id": "6f43d6a3-a908-4086-8eb6-51043d23891f",
   "metadata": {},
   "source": [
    "- True +(TP) >>\n",
    "- - Given an image, if your model predicts the image has pneumothorax, and the actual target for that image has pneumothorax,it is\n",
    "considered a true positive.\n",
    "\n",
    "- True -(TN) >>\n",
    "- - Given an image, if your model predicts that the image does not\n",
    "have pneumothorax and the actual target says that it is a non-pneumothorax image,\n",
    "it is considered a true negative.\n",
    " \n",
    "- In simple words, if your model correctly predicts positive class, it is true positive,\n",
    "and if your model accurately predicts negative class, it is a true negative.\n",
    "\n",
    "- False +(FP) >>\n",
    "- - Given an image, if your model predicts pneumothorax and the\n",
    "actual target for that image is non- pneumothorax, it a false positive.\n",
    "\n",
    "- False -(FN) >>\n",
    "- - False negative (FN): Given an image, if your model predicts non-pneumothorax\n",
    "and the actual target for that image is pneumothorax, it is a false negative.\n",
    "\n",
    "- if your model incorrectly (or falsely) predicts positive class, it is\n",
    "a false positive. If your model incorrectly (or falsely) predicts negative class, it is a\n",
    "false negative."
   ]
  },
  {
   "cell_type": "markdown",
   "id": "a44133cc-2f35-474b-805b-7d84544b366b",
   "metadata": {},
   "source": [
    "Hint 🧠 \n",
    "The next word from True _ or False _ will be your what your model predicted\n",
    "- Positive(+) for class assigned,\n",
    "- Negative(-) for other class assigned,\n",
    "- and if its True it predicted what was there in actual,\n",
    "- and if its False it predicted opposite to what was there"
   ]
  },
  {
   "cell_type": "code",
   "execution_count": 7,
   "id": "e4a808dd-828b-45af-abfa-ed3312cfee83",
   "metadata": {},
   "outputs": [],
   "source": [
    "def true_positive(y_true, y_pred):\n",
    "    \"\"\"\n",
    "    Function to calculate True Positives\n",
    "    :param y_true: list of true values\n",
    "    :param y_pred: list of predicted values\n",
    "    :return: number of true positives\n",
    "    \"\"\"\n",
    "    # initialize\n",
    "    tp = 0\n",
    "    for yt, yp in zip(y_true, y_pred):\n",
    "        if yt == 1 and yp == 1:\n",
    "            tp += 1\n",
    "    return tp\n",
    "        \n",
    "def true_negative(y_true, y_pred):\n",
    "    \"\"\"\n",
    "    Function to calculate True Negatives\n",
    "    :param y_true: list of true values\n",
    "    :param y_pred: list of predicted values\n",
    "    :return: number of true negatives\n",
    "    \"\"\"\n",
    "    # initialize\n",
    "    tn = 0\n",
    "    for yt, yp in zip(y_true, y_pred):\n",
    "        if yt == 0 and yp == 0:\n",
    "            tn += 1\n",
    "    return tn\n",
    "        \n",
    "def false_positive(y_true, y_pred):\n",
    "    \"\"\"\n",
    "    Function to calculate False Positives\n",
    "    :param y_true: list of true values\n",
    "    :param y_pred: list of predicted values\n",
    "    :return: number of false positives\n",
    "    \"\"\"\n",
    "    fp = 0\n",
    "    for yt, yp in zip(y_true, y_pred):\n",
    "        if yt == 0 and yp == 1:\n",
    "            fp += 1\n",
    "    return fp\n",
    "    \n",
    "def false_negative(y_true, y_pred):\n",
    "    \"\"\"\n",
    "    Function to calculate False Negatives\n",
    "    :param y_true: list of true values\n",
    "    :param y_pred: list of predicted values\n",
    "    :return: number of false negatives\n",
    "    \"\"\"\n",
    "    # initialize\n",
    "    fn = 0\n",
    "    for yt, yp in zip(y_true, y_pred):\n",
    "        if yt == 1 and yp == 0:\n",
    "            fn += 1\n",
    "    return fn"
   ]
  },
  {
   "cell_type": "code",
   "execution_count": 8,
   "id": "867016ba-b194-4847-9717-d81a3403da15",
   "metadata": {},
   "outputs": [
    {
     "name": "stdout",
     "output_type": "stream",
     "text": [
      "2\n",
      "1\n",
      "2\n",
      "3\n"
     ]
    }
   ],
   "source": [
    "l1 = [0,1,1,1,0,0,0,1]\n",
    "l2 = [0,1,0,1,0,1,0,0]\n",
    "print(true_positive(l1, l2))\n",
    "print(false_positive(l1, l2))\n",
    "print(false_negative(l1, l2))\n",
    "print(true_negative(l1, l2))\n"
   ]
  },
  {
   "cell_type": "code",
   "execution_count": 9,
   "id": "c0d8fccb-839c-45a7-931c-ce738b44504a",
   "metadata": {},
   "outputs": [],
   "source": [
    "def accuracy_v2(y_true, y_pred):\n",
    "    \"\"\"\n",
    "    Function to calculate accuracy using tp/tn/fp/fn\n",
    "    :param y_true: list of true values\n",
    "    :param y_pred: list of predicted values\n",
    "    :return: accuracy score\n",
    "    \"\"\"\n",
    "    tp = true_positive(y_true, y_pred)\n",
    "    fp = false_positive(y_true, y_pred)\n",
    "    fn = false_negative(y_true, y_pred)\n",
    "    tn = true_negative(y_true, y_pred)\n",
    "    accuracy_score = (tp + tn) / (tp + tn + fp + fn)\n",
    "    return accuracy_score"
   ]
  },
  {
   "cell_type": "code",
   "execution_count": 10,
   "id": "77d42bc5-d5d9-4cdb-88c1-71672d6512ed",
   "metadata": {},
   "outputs": [
    {
     "name": "stdout",
     "output_type": "stream",
     "text": [
      "0.625\n",
      "0.625\n",
      "0.625\n"
     ]
    }
   ],
   "source": [
    "# Cross checking correctness\n",
    "l1 = [0,1,1,1,0,0,0,1]\n",
    "l2 = [0,1,0,1,0,1,0,0]\n",
    "print(accuracy(l1, l2))\n",
    "print(accuracy_v2(l1, l2))\n",
    "print(metrics.accuracy_score(l1, l2))\n"
   ]
  },
  {
   "cell_type": "markdown",
   "id": "efb28181-3bea-4043-b695-84032f3f2fa1",
   "metadata": {},
   "source": [
    "#### Precision\n",
    "- Precision = TP / (TP + FP)\n",
    "-  (definition 💡)"
   ]
  },
  {
   "cell_type": "raw",
   "id": "d1e58e36-73f9-42bf-b66b-ed35ee4f2839",
   "metadata": {},
   "source": [
    "Let’s say we make a new model on the new skewed dataset and our model correctly\n",
    "identified 80 non-pneumothorax out of 90 and 8 pneumothorax out of 10. Thus, we\n",
    "identify 88 images out of 100 successfully. The accuracy is, therefore, 0.88 or 88%.\n",
    "But, out of these 100 samples, 10 non-pneumothorax images are misclassified as\n",
    "having pneumothorax and 2 pneumothorax are misclassified as not having\n",
    "pneumothorax.\n",
    "Thus, we have:\n",
    "- TP : 8\n",
    "- TN: 80\n",
    "- FP: 10\n",
    "- FN: 2\n",
    "So, our precision is 8 / (8 + 10) = 0.444. This means our model is correct 44.4%\n",
    "times when it’s trying to identify positive samples (pneumothorax)."
   ]
  },
  {
   "cell_type": "code",
   "execution_count": 11,
   "id": "2a251e58-ddc4-49f7-8e4e-e1d9077f28ba",
   "metadata": {},
   "outputs": [],
   "source": [
    "def precision(y_true, y_pred):\n",
    "    \"\"\"\n",
    "    Function to calculate precision\n",
    "    :param y_true: list of true values\n",
    "    :param y_pred: list of predicted values\n",
    "    :return: precision score\n",
    "    \"\"\"\n",
    "    tp = true_positive(y_true, y_pred)\n",
    "    fp = false_positive(y_true, y_pred)\n",
    "    precision = tp / (tp + fp)\n",
    "    return precision"
   ]
  },
  {
   "cell_type": "code",
   "execution_count": 12,
   "id": "e45627c3-69cd-47a5-a67f-5590a0937426",
   "metadata": {},
   "outputs": [
    {
     "data": {
      "text/plain": [
       "0.6666666666666666"
      ]
     },
     "execution_count": 12,
     "metadata": {},
     "output_type": "execute_result"
    }
   ],
   "source": [
    "l1 = [0,1,1,1,0,0,0,1]\n",
    "l2 = [0,1,0,1,0,1,0,0]\n",
    "precision(l1, l2)"
   ]
  },
  {
   "cell_type": "markdown",
   "id": "980a82da-5fe0-4568-a8e0-c2ddbb419656",
   "metadata": {},
   "source": [
    "#### E.g Recall"
   ]
  },
  {
   "cell_type": "markdown",
   "id": "7ac72e0d-28ee-4a3c-89f1-7dce244a5f1c",
   "metadata": {},
   "source": [
    "- Recall = TP / (TP + FN\n",
    "- Out of total positive class ,how accurately our model predicted (#check once)"
   ]
  },
  {
   "cell_type": "code",
   "execution_count": 13,
   "id": "77b765c4-9f9d-4480-86c8-d93b6af80805",
   "metadata": {},
   "outputs": [],
   "source": [
    "def recall(y_true, y_pred):\n",
    "    \"\"\"\n",
    "    Function to calculate recall\n",
    "    :param y_true: list of true values\n",
    "    :param y_pred: list of predicted values\n",
    "    :return: recall score\n",
    "    \"\"\"\n",
    "    tp = true_positive(y_true, y_pred)\n",
    "    fn = false_negative(y_true, y_pred)\n",
    "    recall = tp / (tp + fn)\n",
    "    return recall"
   ]
  },
  {
   "cell_type": "code",
   "execution_count": 14,
   "id": "4b1948f0-dc04-44d7-b9ea-d3fe3768ef3c",
   "metadata": {},
   "outputs": [
    {
     "data": {
      "text/plain": [
       "0.5"
      ]
     },
     "execution_count": 14,
     "metadata": {},
     "output_type": "execute_result"
    }
   ],
   "source": [
    "l1 = [0,1,1,1,0,0,0,1]\n",
    "l2 = [0,1,0,1,0,1,0,0]\n",
    "recall(l1, l2)"
   ]
  },
  {
   "cell_type": "raw",
   "id": "8bfa91d5-a26d-4f49-a8d0-a876210a106d",
   "metadata": {},
   "source": [
    "🧠 For a “good” model, our precision and recall values should be high"
   ]
  },
  {
   "cell_type": "markdown",
   "id": "a48416de-ccfd-4826-8925-14f754fb00b9",
   "metadata": {},
   "source": [
    "#### Precision Recall Curve"
   ]
  },
  {
   "cell_type": "raw",
   "id": "004a6b38-17de-4ea0-9dad-4f4c67b4e07a",
   "metadata": {},
   "source": [
    "Most of the models predict a probability, and when we predict, we usually choose\n",
    "this threshold to be 0.5. This threshold is not always ideal, and depending on this\n",
    "threshold, your value of precision and recall can change drastically. If for every\n",
    "threshold we choose, we calculate the precision and recall values, we can create a\n",
    "plot between these sets of values. This plot or curve is known as the precision-recall\n",
    "curve."
   ]
  },
  {
   "cell_type": "code",
   "execution_count": 15,
   "id": "f1df80e9-833f-49ff-9ba7-8094447e5669",
   "metadata": {},
   "outputs": [],
   "source": [
    "y_true = [0, 0, 0, 1, 0, 0, 0, 0, 0, 0,\n",
    "          1, 0, 0, 0, 0, 0, 0, 0, 1, 0]\n",
    "y_pred = [0.02638412, 0.11114267, 0.31620708,\n",
    "          0.0490937, 0.0191491, 0.17554844,\n",
    "          0.15952202, 0.03819563, 0.11639273,\n",
    "          0.079377, 0.08584789, 0.39095342,\n",
    "          0.27259048, 0.03447096, 0.04644807,\n",
    "          0.03543574, 0.18521942, 0.05934905,\n",
    "          0.61977213, 0.33056815]"
   ]
  },
  {
   "cell_type": "code",
   "execution_count": 16,
   "id": "4d284cfc-b8a5-4cf5-825c-abccd46bdfdb",
   "metadata": {},
   "outputs": [
    {
     "ename": "NameError",
     "evalue": "name 'precision_score' is not defined",
     "output_type": "error",
     "traceback": [
      "\u001b[0;31m---------------------------------------------------------------------------\u001b[0m",
      "\u001b[0;31mNameError\u001b[0m                                 Traceback (most recent call last)",
      "Cell \u001b[0;32mIn[16], line 14\u001b[0m\n\u001b[1;32m     12\u001b[0m \u001b[38;5;28;01mfor\u001b[39;00m i \u001b[38;5;129;01min\u001b[39;00m thresholds:\n\u001b[1;32m     13\u001b[0m     temp_prediction \u001b[38;5;241m=\u001b[39m [\u001b[38;5;241m1\u001b[39m \u001b[38;5;28;01mif\u001b[39;00m x \u001b[38;5;241m>\u001b[39m\u001b[38;5;241m=\u001b[39m i \u001b[38;5;28;01melse\u001b[39;00m \u001b[38;5;241m0\u001b[39m \u001b[38;5;28;01mfor\u001b[39;00m x \u001b[38;5;129;01min\u001b[39;00m y_pred]\n\u001b[0;32m---> 14\u001b[0m     p\u001b[38;5;241m=\u001b[39m\u001b[43mprecision_score\u001b[49m(y_true,temp_prediction)\n\u001b[1;32m     15\u001b[0m     r\u001b[38;5;241m=\u001b[39mrecall_score(y_true,temp_prediction)\n\u001b[1;32m     16\u001b[0m     precisions\u001b[38;5;241m.\u001b[39mappend(p)\n",
      "\u001b[0;31mNameError\u001b[0m: name 'precision_score' is not defined"
     ]
    }
   ],
   "source": [
    "precisions = []\n",
    "recalls = []\n",
    "# how we assumed these thresholds is a long story\n",
    "thresholds = [0.0490937 , 0.05934905, 0.079377,\n",
    "              0.08584789, 0.11114267, 0.11639273,\n",
    "              0.15952202, 0.17554844, 0.18521942,\n",
    "              0.27259048, 0.31620708, 0.33056815,\n",
    "              0.39095342, 0.61977213]\n",
    "# for every threshold, calculate predictions in binary\n",
    "# and append calculated precisions and recalls\n",
    "# to their respective lists\n",
    "for i in thresholds:\n",
    "    temp_prediction = [1 if x >= i else 0 for x in y_pred]\n",
    "    p=precision_score(y_true,temp_prediction)\n",
    "    r=recall_score(y_true,temp_prediction)\n",
    "    precisions.append(p)\n",
    "    recalls.append(r)"
   ]
  },
  {
   "cell_type": "code",
   "execution_count": 17,
   "id": "15557183-eeb0-4651-89e3-b371d688d1c5",
   "metadata": {},
   "outputs": [
    {
     "ename": "NameError",
     "evalue": "name 'plt' is not defined",
     "output_type": "error",
     "traceback": [
      "\u001b[0;31m---------------------------------------------------------------------------\u001b[0m",
      "\u001b[0;31mNameError\u001b[0m                                 Traceback (most recent call last)",
      "Cell \u001b[0;32mIn[17], line 1\u001b[0m\n\u001b[0;32m----> 1\u001b[0m \u001b[43mplt\u001b[49m\u001b[38;5;241m.\u001b[39mfigure(figsize\u001b[38;5;241m=\u001b[39m(\u001b[38;5;241m4\u001b[39m, \u001b[38;5;241m4\u001b[39m))\n\u001b[1;32m      2\u001b[0m plt\u001b[38;5;241m.\u001b[39mplot(recalls, precisions)\n\u001b[1;32m      3\u001b[0m plt\u001b[38;5;241m.\u001b[39mxlabel(\u001b[38;5;124m'\u001b[39m\u001b[38;5;124mRecall\u001b[39m\u001b[38;5;124m'\u001b[39m, fontsize\u001b[38;5;241m=\u001b[39m\u001b[38;5;241m15\u001b[39m)\n",
      "\u001b[0;31mNameError\u001b[0m: name 'plt' is not defined"
     ]
    }
   ],
   "source": [
    "plt.figure(figsize=(4, 4))\n",
    "plt.plot(recalls, precisions)\n",
    "plt.xlabel('Recall', fontsize=15)\n",
    "plt.ylabel('Precision', fontsize=15)"
   ]
  },
  {
   "cell_type": "code",
   "execution_count": 18,
   "id": "0e3c494d-1cad-45b1-aba1-e02c8abba54a",
   "metadata": {},
   "outputs": [
    {
     "data": {
      "image/png": "[encoded data removed]",
      "text/plain": [
       "<Figure size 500x500 with 1 Axes>"
      ]
     },
     "metadata": {},
     "output_type": "display_data"
    }
   ],
   "source": [
    "import matplotlib.pyplot as plt\n",
    "from sklearn.metrics import precision_score, recall_score\n",
    "\n",
    "y_true = [0, 0, 0, 1, 0, 0, 0, 0, 0, 0,\n",
    "          1, 0, 0, 0, 0, 0, 0, 0, 1, 0]\n",
    "\n",
    "y_pred = [0.02638412, 0.11114267, 0.31620708,\n",
    "          0.0490937, 0.0191491, 0.17554844,\n",
    "          0.15952202, 0.03819563, 0.11639273,\n",
    "          0.079377, 0.08584789, 0.39095342,\n",
    "          0.27259048, 0.03447096, 0.04644807,\n",
    "          0.03543574, 0.18521942, 0.05934905,\n",
    "          0.61977213, 0.33056815]\n",
    "\n",
    "thresholds = [0.0490937, 0.05934905, 0.079377,\n",
    "              0.08584789, 0.11114267, 0.11639273,\n",
    "              0.15952202, 0.17554844, 0.18521942,\n",
    "              0.27259048, 0.31620708, 0.33056815,\n",
    "              0.39095342, 0.61977213]\n",
    "\n",
    "precisions = []\n",
    "recalls = []\n",
    "\n",
    "for thresh in thresholds:\n",
    "    temp_prediction = [1 if x >= thresh else 0 for x in y_pred]\n",
    "    p = precision_score(y_true, temp_prediction)\n",
    "    r = recall_score(y_true, temp_prediction)\n",
    "    precisions.append(p)\n",
    "    recalls.append(r)\n",
    "\n",
    "# Plotting\n",
    "plt.figure(figsize=(5, 5))\n",
    "plt.plot(recalls, precisions, marker='o')\n",
    "plt.xlabel('Recall', fontsize=12)\n",
    "plt.ylabel('Precision', fontsize=12)\n",
    "plt.title('Precision-Recall Curve')\n",
    "plt.grid(True)\n",
    "plt.show()\n"
   ]
  },
  {
   "cell_type": "raw",
   "id": "54a37562-77da-4477-9f43-4385fe92849b",
   "metadata": {},
   "source": [
    "💡 it’s challenging to choose a value of threshold that gives both\n",
    "good precision and recall values. If the threshold is too high, you have a smaller\n",
    "number of true positives and a high number of false negatives. This decreases your\n",
    "recall; however, your precision score will be high. If you reduce the threshold too\n",
    "low, false positives will increase a lot, and precision will be less.\n",
    "- Both precision and recall range from 0 to 1 and a value closer to 1 is better."
   ]
  },
  {
   "cell_type": "markdown",
   "id": "34d1663e-ab27-4703-ae21-3c7e4a9c331d",
   "metadata": {},
   "source": [
    "#### F1 Score "
   ]
  },
  {
   "cell_type": "markdown",
   "id": "3f82a2aa-5551-4521-9551-a11b035c6766",
   "metadata": {},
   "source": [
    "- metric that combines both precision and recall.\n",
    "- F1 = 2PR / (P + R)\n",
    "- F1 = 2TP / (2TP + FP + FN)\n",
    "- F1 score also ranges from 0 to 1,\n",
    "and a perfect prediction model has an F1 of 1. When dealing with datasets that have\n",
    "skewed targets, we should look at F1 (or precision and recall) instead of accuracy."
   ]
  },
  {
   "cell_type": "code",
   "execution_count": 19,
   "id": "f2c7d3ea-52e8-4647-a3c0-1d03e48a76c8",
   "metadata": {},
   "outputs": [],
   "source": [
    "def f1(y_true, y_pred):\n",
    "    \"\"\"\n",
    "    Function to calculate f1 score\n",
    "    :param y_true: list of true values\n",
    "    :param y_pred: list of predicted values\n",
    "    :return: f1 score\n",
    "    \"\"\"\n",
    "    p = precision(y_true, y_pred)\n",
    "    r = recall(y_true, y_pred)\n",
    "    score = 2 * p * r / (p + r)\n",
    "    return score"
   ]
  },
  {
   "cell_type": "code",
   "execution_count": 20,
   "id": "79675d3a-239c-40f1-b787-2bedf28a1999",
   "metadata": {},
   "outputs": [
    {
     "data": {
      "text/plain": [
       "0.5714285714285715"
      ]
     },
     "execution_count": 20,
     "metadata": {},
     "output_type": "execute_result"
    }
   ],
   "source": [
    "y_true = [0, 0, 0, 1, 0, 0, 0, 0, 0, 0,\n",
    "          1, 0, 0, 0, 0, 0, 0, 0, 1, 0]\n",
    "y_pred = [0, 0, 1, 0, 0, 0, 1, 0, 0, 0,\n",
    "          1, 0, 0, 0, 0, 0, 0, 0, 1, 0]\n",
    "f1(y_true, y_pred)"
   ]
  },
  {
   "cell_type": "code",
   "execution_count": 21,
   "id": "3721fbe4-bd06-45a9-82b2-b7cc5c5fc8bc",
   "metadata": {},
   "outputs": [
    {
     "data": {
      "text/plain": [
       "0.5714285714285714"
      ]
     },
     "execution_count": 21,
     "metadata": {},
     "output_type": "execute_result"
    }
   ],
   "source": [
    "from sklearn import metrics\n",
    "metrics.f1_score(y_true,y_pred)"
   ]
  },
  {
   "cell_type": "markdown",
   "id": "5c8c7bad-7159-4452-b527-8b314e2225c3",
   "metadata": {},
   "source": [
    "#### TPR or True positive Rate (💡 Sensitivity)\n",
    "- TPR = TP / (TP + FN)"
   ]
  },
  {
   "cell_type": "code",
   "execution_count": 22,
   "id": "57147261-190f-41ce-9262-26ed513541b9",
   "metadata": {},
   "outputs": [],
   "source": [
    "def tpr(y_true, y_pred):\n",
    "    \"\"\"\n",
    "    Function to calculate tpr\n",
    "    :param y_true: list of true values\n",
    "    :param y_pred: list of predicted values\n",
    "    :return: tpr/recall\n",
    "    \"\"\"\n",
    "    return recall(y_true, y_pred)"
   ]
  },
  {
   "cell_type": "markdown",
   "id": "39bd6ee5-22b3-44ec-8f66-bfc3f9200b55",
   "metadata": {},
   "source": [
    "#### FPR or False Positive Rate, which is defined as:\n",
    "- FPR = FP / (TN + FP)"
   ]
  },
  {
   "cell_type": "code",
   "execution_count": 23,
   "id": "4b26408c-e60d-4f02-a05c-dca74c31905e",
   "metadata": {},
   "outputs": [],
   "source": [
    "def fpr(y_true, y_pred):\n",
    "    \"\"\"\n",
    "    Function to calculate fpr\n",
    "    :param y_true: list of true values\n",
    "    :param y_pred: list of predicted values\n",
    "    :return: fpr\n",
    "    \"\"\"\n",
    "    fp = false_positive(y_true, y_pred)\n",
    "    tn = true_negative(y_true, y_pred)\n",
    "    return fp / (tn + fp)"
   ]
  },
  {
   "cell_type": "markdown",
   "id": "afab2fef-c71c-4243-8b88-d2599e804dd5",
   "metadata": {},
   "source": [
    "####  💡 (1 - FPR) is known as specificity or True Negative Rate or TNR."
   ]
  },
  {
   "cell_type": "code",
   "execution_count": 24,
   "id": "4eda0a9a-8b44-4615-8d0e-13b17b16fb86",
   "metadata": {},
   "outputs": [],
   "source": [
    "tpr_list = []\n",
    "fpr_list = []\n",
    "# actual targets\n",
    "y_true = [0, 0, 0, 0, 1, 0, 1,\n",
    "0, 0, 1, 0, 1, 0, 0, 1]\n",
    "# predicted probabilities of a sample being 1\n",
    "y_pred = [0.1, 0.3, 0.2, 0.6, 0.8, 0.05,\n",
    "0.9, 0.5, 0.3, 0.66, 0.3, 0.2,\n",
    "0.85, 0.15, 0.99]\n",
    "# handmade thresholds\n",
    "thresholds = [0, 0.1, 0.2, 0.3, 0.4, 0.5,\n",
    "0.6, 0.7, 0.8, 0.85, 0.9, 0.99, 1.0]\n",
    "# loop over all thresholds\n",
    "for thresh in thresholds:\n",
    "    # calculate predictions for a given threshold\n",
    "    temp_pred = [1 if x >= thresh else 0 for x in y_pred]\n",
    "    # calculate tpr\n",
    "    temp_tpr = tpr(y_true, temp_pred)\n",
    "    # calculate fpr\n",
    "    temp_fpr = fpr(y_true, temp_pred)\n",
    "    # append tpr and fpr to lists\n",
    "    tpr_list.append(temp_tpr)\n",
    "    fpr_list.append(temp_fpr)"
   ]
  },
  {
   "cell_type": "code",
   "execution_count": 25,
   "id": "3812389a-184c-4214-a7e9-aa2a0dfd9899",
   "metadata": {},
   "outputs": [
    {
     "data": {
      "image/png": "[encoded data removed]",
      "text/plain": [
       "<Figure size 700x700 with 1 Axes>"
      ]
     },
     "metadata": {},
     "output_type": "display_data"
    }
   ],
   "source": [
    "plt.figure(figsize=(7,7))\n",
    "plt.fill_between(fpr_list,tpr_list,alpha=0.4)\n",
    "plt.plot(fpr_list,tpr_list,lw=3)\n",
    "plt.xlim(0,1.0)\n",
    "plt.xlim(0,1.0)\n",
    "plt.xlabel('FPR',fontsize=15)\n",
    "plt.xlabel('TPR',fontsize=15)\n",
    "plt.show()"
   ]
  },
  {
   "cell_type": "raw",
   "id": "adc1d771-3021-46fe-abb5-4f8ea7ace16c",
   "metadata": {},
   "source": [
    "This curve is also known as the Receiver Operating Characteristic (ROC). And\n",
    "if we calculate the area under this ROC curve, we are calculating another metric\n",
    "which is used very often when you have a dataset which has skewed binary targets.\n",
    "This metric is known as the Area Under ROC Curve or Area Under Curve or\n",
    "just simply AUC."
   ]
  },
  {
   "cell_type": "code",
   "execution_count": 27,
   "id": "9eca5b0c-cdaa-44b5-b736-3a80993f4e85",
   "metadata": {},
   "outputs": [
    {
     "data": {
      "text/plain": [
       "0.8300000000000001"
      ]
     },
     "execution_count": 27,
     "metadata": {},
     "output_type": "execute_result"
    }
   ],
   "source": [
    "from sklearn import metrics\n",
    "y_true = [0, 0, 0, 0, 1, 0, 1,\n",
    "0, 0, 1, 0, 1, 0, 0, 1]\n",
    "y_pred = [0.1, 0.3, 0.2, 0.6, 0.8, 0.05,\n",
    "0.9, 0.5, 0.3, 0.66, 0.3, 0.2,\n",
    "0.85, 0.15, 0.99]\n",
    "metrics.roc_auc_score(y_true,y_pred)"
   ]
  },
  {
   "cell_type": "markdown",
   "id": "29936049-1610-49fd-9109-8f3a5b89576c",
   "metadata": {},
   "source": [
    "AUC values range from 0 to 1.\n",
    "- AUC = 1 implies you have a perfect model. Most of the time, it means that\n",
    "you made some mistake with validation and should revisit data processing\n",
    "and validation pipeline of yours. If you didn’t make any mistakes, then\n",
    "congratulations, you have the best model one can have for the dataset you\n",
    "built it on.\n",
    "- AUC = 0 implies that your model is very bad (or very good!). Try inverting\n",
    "the probabilities for the predictions, for example, if your probability for the\n",
    "positive class is p, try substituting it with 1-p. This kind of AUC may also\n",
    "mean that there is some problem with your validation or data processing.\n",
    "- AUC = 0.5 implies that your predictions are random. So, for any binary\n",
    "classification problem, if I predict all targets as 0.5, I will get an AUC of\n",
    "0.5.\n",
    "\n",
    "- - AUC values between 0 and 0.5 imply that your model is worse than random. Most\n",
    "of the time, it’s because you inverted the classes. If you try to invert your\n",
    "predictions, your AUC might become more than 0.5. AUC values closer to 1 are\n",
    "considered good."
   ]
  },
  {
   "cell_type": "markdown",
   "id": "97eb3d93-8ffb-4a8f-9211-f009cda6b75a",
   "metadata": {},
   "source": [
    "Prediction = Probability >= Threshold\n",
    "Which means, that prediction is a new list which contains only binary variables. An\n",
    "item in prediction is 1 if the probability is greater than or equal to a given threshold\n",
    "else the value is 0.\n",
    "And guess what, you can use the ROC curve to choose this threshold! "
   ]
  },
  {
   "cell_type": "code",
   "execution_count": 29,
   "id": "b01d917c-9572-4488-ba1a-6a22e96befa9",
   "metadata": {},
   "outputs": [],
   "source": [
    "# empty lists to store true positive\n",
    "# and false positive values\n",
    "tp_list = []\n",
    "fp_list = []\n",
    "# actual targets\n",
    "y_true = [0, 0, 0, 0, 1, 0, 1,\n",
    "0, 0, 1, 0, 1, 0, 0, 1]\n",
    "# predicted probabilities of a sample being 1\n",
    "y_pred = [0.1, 0.3, 0.2, 0.6, 0.8, 0.05,\n",
    "0.9, 0.5, 0.3, 0.66, 0.3, 0.2,\n",
    "0.85, 0.15, 0.99]\n",
    "# some handmade thresholds\n",
    "thresholds = [0, 0.1, 0.2, 0.3, 0.4, 0.5,\n",
    "0.6, 0.7, 0.8, 0.85, 0.9, 0.99, 1.0]\n",
    "# loop over all thresholds\n",
    "for thresh in thresholds:\n",
    "    # calculate predictions for a given threshold\n",
    "    temp_pred = [1 if x >= thresh else 0 for x in y_pred]\n",
    "    # calculate tp\n",
    "    temp_tp = true_positive(y_true, temp_pred)\n",
    "    # calculate fp\n",
    "    temp_fp = false_positive(y_true, temp_pred)\n",
    "    # append tp and fp to lists\n",
    "    tp_list.append(temp_tp)\n",
    "    fp_list.append(temp_fp)"
   ]
  },
  {
   "cell_type": "markdown",
   "id": "6dd46d00-6399-4cd3-a93c-0f9372964267",
   "metadata": {},
   "source": [
    "- the top-left value on ROC curve should give you a quite good\n",
    "- AUC is a widely used metric for skewed binary classification tasks in the industry,"
   ]
  },
  {
   "cell_type": "markdown",
   "id": "a986989f-ac66-4875-92a6-28284be7f11d",
   "metadata": {},
   "source": [
    "### log loss\n",
    "- Log Loss = - 1.0 * ( target * log(prediction) + (1 - target) * log(1 - prediction) )"
   ]
  },
  {
   "cell_type": "code",
   "execution_count": null,
   "id": "0938a867-ca5c-470b-841b-5d9dd95405d0",
   "metadata": {},
   "outputs": [],
   "source": []
  }
 ],
 "metadata": {
  "kernelspec": {
   "display_name": "Python 3 (ipykernel)",
   "language": "python",
   "name": "python3"
  },
  "language_info": {
   "codemirror_mode": {
    "name": "ipython",
    "version": 3
   },
   "file_extension": ".py",
   "mimetype": "text/x-python",
   "name": "python",
   "nbconvert_exporter": "python",
   "pygments_lexer": "ipython3",
   "version": "3.10.18"
  }
 },
 "nbformat": 4,
 "nbformat_minor": 5
}
