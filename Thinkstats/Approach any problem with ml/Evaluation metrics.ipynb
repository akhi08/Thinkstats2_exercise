{
 "cells": [
  {
   "cell_type": "code",
   "execution_count": 8,
   "id": "b75432d3-8b27-452d-90d7-5696a301d8b4",
   "metadata": {},
   "outputs": [],
   "source": [
    "# git commands\n",
    "# git status\n",
    "# git add .\n",
    "# git commit -m \"comments\"\n",
    "# git push main origin\n"
   ]
  },
  {
   "cell_type": "markdown",
   "id": "5e6280c3-e4d3-41c4-a858-a8df13258cae",
   "metadata": {},
   "source": [
    "### Classification Metrics"
   ]
  },
  {
   "cell_type": "raw",
   "id": "450531d2-6ac2-4121-8dc1-8573ad185816",
   "metadata": {},
   "source": [
    "If we talk about classification problems, the most common metrics used are:\n",
    "- Accuracy\n",
    "- Precision (P)\n",
    "- Recall (R)\n",
    "- F1 score (F1)\n",
    "- Area under the ROC (Receiver Operating Characteristic) curve or simply\n",
    "AUC (AUC)\n",
    "- Log loss\n",
    "- Precision at k (P@k)\n",
    "- Average precision at k (AP@k)\n",
    "- Mean average precision at k (MAP@k)\n",
    "\n"
   ]
  },
  {
   "cell_type": "markdown",
   "id": "69c7ea81-8361-4dd4-be6f-03e6884755cf",
   "metadata": {},
   "source": [
    "### Regression Metrics"
   ]
  },
  {
   "cell_type": "raw",
   "id": "f79b6ab0-9b91-428a-9dc8-c0c567beb539",
   "metadata": {},
   "source": [
    "When it comes to regression, the most commonly used evaluation metrics are:\n",
    "- Mean absolute error (MAE)\n",
    "- Mean squared error (MSE)\n",
    "- Root mean squared error (RMSE)\n",
    "- Root mean squared logarithmic error (RMSLE)\n",
    "- Mean percentage error (MPE)\n",
    "- Mean absolute percentage error (MAPE)\n",
    "- R2"
   ]
  },
  {
   "cell_type": "markdown",
   "id": "4ebcbc33-302b-4532-9dda-ca6fdef13450",
   "metadata": {},
   "source": [
    "#### E.g Accuracy Metrics for classification"
   ]
  },
  {
   "cell_type": "raw",
   "id": "21451f6e-8fda-4e3f-9959-bd8a5ee05927",
   "metadata": {},
   "source": [
    "- Accuracy \n",
    " : defines how accurate your model is\n",
    "-- When we have an equal number of positive and negative samples in a binary\n",
    "classification metric, we generally use accuracy, precision, recall and f1\n",
    "-- if dataset is skewed, i.e., the number\n",
    "of samples in one class outnumber the number of samples in other class by a lot. In\n",
    "these kinds of cases, it is not advisable to use accuracy as an evaluation metric as it\n",
    "is not representative of the data. "
   ]
  },
  {
   "cell_type": "code",
   "execution_count": 30,
   "id": "ea8275e9-4e7d-43f7-80c8-eb5a7b19a163",
   "metadata": {},
   "outputs": [],
   "source": [
    "def accuracy(y_true, y_pred):\n",
    "    \"\"\"\n",
    "    Function to calculate accuracy\n",
    "    :param y_true: list of true values\n",
    "    :param y_pred: list of predicted values\n",
    "    :return: accuracy score\n",
    "    \"\"\"\n",
    "# initialize a simple counter for correct predictions\n",
    "    correct_counter = 0\n",
    "# loop over all elements of y_true\n",
    "# and y_pred \"together\"\n",
    "    for yt, yp in zip(y_true, y_pred):\n",
    "        if yt == yp:\n",
    "# if prediction is equal to truth, increase the counter\n",
    "            correct_counter += 1\n",
    "# return accuracy\n",
    "# which is correct predictions over the number of samples\n",
    "    return correct_counter / len(y_true)"
   ]
  },
  {
   "cell_type": "markdown",
   "id": "de7b938f-514f-43a2-9772-513e1d75da70",
   "metadata": {},
   "source": [
    "- using scikit learn"
   ]
  },
  {
   "cell_type": "code",
   "execution_count": 31,
   "id": "b2c52e46-3e82-47df-87a6-0cc11e9eaaa5",
   "metadata": {},
   "outputs": [
    {
     "data": {
      "text/plain": [
       "0.625"
      ]
     },
     "execution_count": 31,
     "metadata": {},
     "output_type": "execute_result"
    }
   ],
   "source": [
    "from sklearn import metrics\n",
    "l1 = [0,1,1,1,0,0,0,1]\n",
    "l2 = [0,1,0,1,0,1,0,0]\n",
    "metrics.accuracy_score(l1, l2)"
   ]
  },
  {
   "cell_type": "markdown",
   "id": "ccc4c2cf-2618-40f9-bf71-2b8458cd6192",
   "metadata": {},
   "source": [
    "#### E.g Precision"
   ]
  },
  {
   "cell_type": "markdown",
   "id": "6f43d6a3-a908-4086-8eb6-51043d23891f",
   "metadata": {},
   "source": [
    "- True +(TP) >>\n",
    "- - Given an image, if your model predicts the image has pneumothorax, and the actual target for that image has pneumothorax,it is\n",
    "considered a true positive.\n",
    "\n",
    "- True -(TN) >>\n",
    "- - Given an image, if your model predicts that the image does not\n",
    "have pneumothorax and the actual target says that it is a non-pneumothorax image,\n",
    "it is considered a true negative.\n",
    " \n",
    "- In simple words, if your model correctly predicts positive class, it is true positive,\n",
    "and if your model accurately predicts negative class, it is a true negative.\n",
    "\n",
    "- False +(FP) >>\n",
    "- - Given an image, if your model predicts pneumothorax and the\n",
    "actual target for that image is non- pneumothorax, it a false positive.\n",
    "\n",
    "- False -(FN) >>\n",
    "- - False negative (FN): Given an image, if your model predicts non-pneumothorax\n",
    "and the actual target for that image is pneumothorax, it is a false negative.\n",
    "\n",
    "- if your model incorrectly (or falsely) predicts positive class, it is\n",
    "a false positive. If your model incorrectly (or falsely) predicts negative class, it is a\n",
    "false negative.\n",
    "\n",
    "- - FP as Type-I error and FN as Type-II error."
   ]
  },
  {
   "cell_type": "markdown",
   "id": "a44133cc-2f35-474b-805b-7d84544b366b",
   "metadata": {},
   "source": [
    "Hint 🧠 \n",
    "The next word from True _ or False _ will be your what your model predicted\n",
    "- Positive(+) for class assigned,\n",
    "- Negative(-) for other class assigned,\n",
    "- and if its True it predicted what was there in actual,\n",
    "- and if its False it predicted opposite to what was there"
   ]
  },
  {
   "cell_type": "code",
   "execution_count": 32,
   "id": "e4a808dd-828b-45af-abfa-ed3312cfee83",
   "metadata": {},
   "outputs": [],
   "source": [
    "def true_positive(y_true, y_pred):\n",
    "    \"\"\"\n",
    "    Function to calculate True Positives\n",
    "    :param y_true: list of true values\n",
    "    :param y_pred: list of predicted values\n",
    "    :return: number of true positives\n",
    "    \"\"\"\n",
    "    # initialize\n",
    "    tp = 0\n",
    "    for yt, yp in zip(y_true, y_pred):\n",
    "        if yt == 1 and yp == 1:\n",
    "            tp += 1\n",
    "    return tp\n",
    "        \n",
    "def true_negative(y_true, y_pred):\n",
    "    \"\"\"\n",
    "    Function to calculate True Negatives\n",
    "    :param y_true: list of true values\n",
    "    :param y_pred: list of predicted values\n",
    "    :return: number of true negatives\n",
    "    \"\"\"\n",
    "    # initialize\n",
    "    tn = 0\n",
    "    for yt, yp in zip(y_true, y_pred):\n",
    "        if yt == 0 and yp == 0:\n",
    "            tn += 1\n",
    "    return tn\n",
    "        \n",
    "def false_positive(y_true, y_pred):\n",
    "    \"\"\"\n",
    "    Function to calculate False Positives\n",
    "    :param y_true: list of true values\n",
    "    :param y_pred: list of predicted values\n",
    "    :return: number of false positives\n",
    "    \"\"\"\n",
    "    fp = 0\n",
    "    for yt, yp in zip(y_true, y_pred):\n",
    "        if yt == 0 and yp == 1:\n",
    "            fp += 1\n",
    "    return fp\n",
    "    \n",
    "def false_negative(y_true, y_pred):\n",
    "    \"\"\"\n",
    "    Function to calculate False Negatives\n",
    "    :param y_true: list of true values\n",
    "    :param y_pred: list of predicted values\n",
    "    :return: number of false negatives\n",
    "    \"\"\"\n",
    "    # initialize\n",
    "    fn = 0\n",
    "    for yt, yp in zip(y_true, y_pred):\n",
    "        if yt == 1 and yp == 0:\n",
    "            fn += 1\n",
    "    return fn"
   ]
  },
  {
   "cell_type": "code",
   "execution_count": 33,
   "id": "867016ba-b194-4847-9717-d81a3403da15",
   "metadata": {},
   "outputs": [
    {
     "name": "stdout",
     "output_type": "stream",
     "text": [
      "2\n",
      "1\n",
      "2\n",
      "3\n"
     ]
    }
   ],
   "source": [
    "l1 = [0,1,1,1,0,0,0,1]\n",
    "l2 = [0,1,0,1,0,1,0,0]\n",
    "print(true_positive(l1, l2))\n",
    "print(false_positive(l1, l2))\n",
    "print(false_negative(l1, l2))\n",
    "print(true_negative(l1, l2))\n"
   ]
  },
  {
   "cell_type": "code",
   "execution_count": 34,
   "id": "c0d8fccb-839c-45a7-931c-ce738b44504a",
   "metadata": {},
   "outputs": [],
   "source": [
    "def accuracy_v2(y_true, y_pred):\n",
    "    \"\"\"\n",
    "    Function to calculate accuracy using tp/tn/fp/fn\n",
    "    :param y_true: list of true values\n",
    "    :param y_pred: list of predicted values\n",
    "    :return: accuracy score\n",
    "    \"\"\"\n",
    "    tp = true_positive(y_true, y_pred)\n",
    "    fp = false_positive(y_true, y_pred)\n",
    "    fn = false_negative(y_true, y_pred)\n",
    "    tn = true_negative(y_true, y_pred)\n",
    "    accuracy_score = (tp + tn) / (tp + tn + fp + fn)\n",
    "    return accuracy_score"
   ]
  },
  {
   "cell_type": "code",
   "execution_count": 35,
   "id": "77d42bc5-d5d9-4cdb-88c1-71672d6512ed",
   "metadata": {},
   "outputs": [
    {
     "name": "stdout",
     "output_type": "stream",
     "text": [
      "0.625\n",
      "0.625\n",
      "0.625\n"
     ]
    }
   ],
   "source": [
    "# Cross checking correctness\n",
    "l1 = [0,1,1,1,0,0,0,1]\n",
    "l2 = [0,1,0,1,0,1,0,0]\n",
    "print(accuracy(l1, l2))\n",
    "print(accuracy_v2(l1, l2))\n",
    "print(metrics.accuracy_score(l1, l2))\n"
   ]
  },
  {
   "cell_type": "markdown",
   "id": "efb28181-3bea-4043-b695-84032f3f2fa1",
   "metadata": {},
   "source": [
    "#### Precision\n",
    "- Precision = TP / (TP + FP)\n",
    "-  (definition 💡)"
   ]
  },
  {
   "cell_type": "raw",
   "id": "d1e58e36-73f9-42bf-b66b-ed35ee4f2839",
   "metadata": {},
   "source": [
    "Let’s say we make a new model on the new skewed dataset and our model correctly\n",
    "identified 80 non-pneumothorax out of 90 and 8 pneumothorax out of 10. Thus, we\n",
    "identify 88 images out of 100 successfully. The accuracy is, therefore, 0.88 or 88%.\n",
    "But, out of these 100 samples, 10 non-pneumothorax images are misclassified as\n",
    "having pneumothorax and 2 pneumothorax are misclassified as not having\n",
    "pneumothorax.\n",
    "Thus, we have:\n",
    "- TP : 8\n",
    "- TN: 80\n",
    "- FP: 10\n",
    "- FN: 2\n",
    "So, our precision is 8 / (8 + 10) = 0.444. This means our model is correct 44.4%\n",
    "times when it’s trying to identify positive samples (pneumothorax)."
   ]
  },
  {
   "cell_type": "code",
   "execution_count": 36,
   "id": "2a251e58-ddc4-49f7-8e4e-e1d9077f28ba",
   "metadata": {},
   "outputs": [],
   "source": [
    "def precision(y_true, y_pred):\n",
    "    \"\"\"\n",
    "    Function to calculate precision\n",
    "    :param y_true: list of true values\n",
    "    :param y_pred: list of predicted values\n",
    "    :return: precision score\n",
    "    \"\"\"\n",
    "    tp = true_positive(y_true, y_pred)\n",
    "    fp = false_positive(y_true, y_pred)\n",
    "    precision = tp / (tp + fp)\n",
    "    return precision"
   ]
  },
  {
   "cell_type": "code",
   "execution_count": 37,
   "id": "e45627c3-69cd-47a5-a67f-5590a0937426",
   "metadata": {},
   "outputs": [
    {
     "data": {
      "text/plain": [
       "0.6666666666666666"
      ]
     },
     "execution_count": 37,
     "metadata": {},
     "output_type": "execute_result"
    }
   ],
   "source": [
    "l1 = [0,1,1,1,0,0,0,1]\n",
    "l2 = [0,1,0,1,0,1,0,0]\n",
    "precision(l1, l2)"
   ]
  },
  {
   "cell_type": "markdown",
   "id": "980a82da-5fe0-4568-a8e0-c2ddbb419656",
   "metadata": {},
   "source": [
    "#### E.g Recall"
   ]
  },
  {
   "cell_type": "markdown",
   "id": "7ac72e0d-28ee-4a3c-89f1-7dce244a5f1c",
   "metadata": {},
   "source": [
    "- Recall = TP / (TP + FN\n",
    "- Out of total positive class ,how accurately our model predicted (#check once)"
   ]
  },
  {
   "cell_type": "code",
   "execution_count": 38,
   "id": "77b765c4-9f9d-4480-86c8-d93b6af80805",
   "metadata": {},
   "outputs": [],
   "source": [
    "def recall(y_true, y_pred):\n",
    "    \"\"\"\n",
    "    Function to calculate recall\n",
    "    :param y_true: list of true values\n",
    "    :param y_pred: list of predicted values\n",
    "    :return: recall score\n",
    "    \"\"\"\n",
    "    tp = true_positive(y_true, y_pred)\n",
    "    fn = false_negative(y_true, y_pred)\n",
    "    recall = tp / (tp + fn)\n",
    "    return recall"
   ]
  },
  {
   "cell_type": "code",
   "execution_count": 39,
   "id": "4b1948f0-dc04-44d7-b9ea-d3fe3768ef3c",
   "metadata": {},
   "outputs": [
    {
     "data": {
      "text/plain": [
       "0.5"
      ]
     },
     "execution_count": 39,
     "metadata": {},
     "output_type": "execute_result"
    }
   ],
   "source": [
    "l1 = [0,1,1,1,0,0,0,1]\n",
    "l2 = [0,1,0,1,0,1,0,0]\n",
    "recall(l1, l2)"
   ]
  },
  {
   "cell_type": "raw",
   "id": "8bfa91d5-a26d-4f49-a8d0-a876210a106d",
   "metadata": {},
   "source": [
    "🧠 For a “good” model, our precision and recall values should be high"
   ]
  },
  {
   "cell_type": "markdown",
   "id": "a48416de-ccfd-4826-8925-14f754fb00b9",
   "metadata": {},
   "source": [
    "#### Precision Recall Curve"
   ]
  },
  {
   "cell_type": "raw",
   "id": "004a6b38-17de-4ea0-9dad-4f4c67b4e07a",
   "metadata": {},
   "source": [
    "Most of the models predict a probability, and when we predict, we usually choose\n",
    "this threshold to be 0.5. This threshold is not always ideal, and depending on this\n",
    "threshold, your value of precision and recall can change drastically. If for every\n",
    "threshold we choose, we calculate the precision and recall values, we can create a\n",
    "plot between these sets of values. This plot or curve is known as the precision-recall\n",
    "curve."
   ]
  },
  {
   "cell_type": "code",
   "execution_count": 40,
   "id": "f1df80e9-833f-49ff-9ba7-8094447e5669",
   "metadata": {},
   "outputs": [],
   "source": [
    "y_true = [0, 0, 0, 1, 0, 0, 0, 0, 0, 0,\n",
    "          1, 0, 0, 0, 0, 0, 0, 0, 1, 0]\n",
    "y_pred = [0.02638412, 0.11114267, 0.31620708,\n",
    "          0.0490937, 0.0191491, 0.17554844,\n",
    "          0.15952202, 0.03819563, 0.11639273,\n",
    "          0.079377, 0.08584789, 0.39095342,\n",
    "          0.27259048, 0.03447096, 0.04644807,\n",
    "          0.03543574, 0.18521942, 0.05934905,\n",
    "          0.61977213, 0.33056815]"
   ]
  },
  {
   "cell_type": "code",
   "execution_count": 41,
   "id": "4d284cfc-b8a5-4cf5-825c-abccd46bdfdb",
   "metadata": {},
   "outputs": [],
   "source": [
    "precisions = []\n",
    "recalls = []\n",
    "# how we assumed these thresholds is a long story\n",
    "thresholds = [0.0490937 , 0.05934905, 0.079377,\n",
    "              0.08584789, 0.11114267, 0.11639273,\n",
    "              0.15952202, 0.17554844, 0.18521942,\n",
    "              0.27259048, 0.31620708, 0.33056815,\n",
    "              0.39095342, 0.61977213]\n",
    "# for every threshold, calculate predictions in binary\n",
    "# and append calculated precisions and recalls\n",
    "# to their respective lists\n",
    "for i in thresholds:\n",
    "    temp_prediction = [1 if x >= i else 0 for x in y_pred]\n",
    "    p=precision_score(y_true,temp_prediction)\n",
    "    r=recall_score(y_true,temp_prediction)\n",
    "    precisions.append(p)\n",
    "    recalls.append(r)"
   ]
  },
  {
   "cell_type": "code",
   "execution_count": 42,
   "id": "15557183-eeb0-4651-89e3-b371d688d1c5",
   "metadata": {},
   "outputs": [
    {
     "data": {
      "text/plain": [
       "Text(0, 0.5, 'Precision')"
      ]
     },
     "execution_count": 42,
     "metadata": {},
     "output_type": "execute_result"
    },
    {
     "data": {
      "image/png": "[encoded data removed]",
      "text/plain": [
       "<Figure size 400x400 with 1 Axes>"
      ]
     },
     "metadata": {},
     "output_type": "display_data"
    }
   ],
   "source": [
    "plt.figure(figsize=(4, 4))\n",
    "plt.plot(recalls, precisions)\n",
    "plt.xlabel('Recall', fontsize=15)\n",
    "plt.ylabel('Precision', fontsize=15)"
   ]
  },
  {
   "cell_type": "code",
   "execution_count": 43,
   "id": "0e3c494d-1cad-45b1-aba1-e02c8abba54a",
   "metadata": {},
   "outputs": [
    {
     "data": {
      "image/png": "[encoded data removed]",
      "text/plain": [
       "<Figure size 500x500 with 1 Axes>"
      ]
     },
     "metadata": {},
     "output_type": "display_data"
    }
   ],
   "source": [
    "import matplotlib.pyplot as plt\n",
    "from sklearn.metrics import precision_score, recall_score\n",
    "\n",
    "y_true = [0, 0, 0, 1, 0, 0, 0, 0, 0, 0,\n",
    "          1, 0, 0, 0, 0, 0, 0, 0, 1, 0]\n",
    "\n",
    "y_pred = [0.02638412, 0.11114267, 0.31620708,\n",
    "          0.0490937, 0.0191491, 0.17554844,\n",
    "          0.15952202, 0.03819563, 0.11639273,\n",
    "          0.079377, 0.08584789, 0.39095342,\n",
    "          0.27259048, 0.03447096, 0.04644807,\n",
    "          0.03543574, 0.18521942, 0.05934905,\n",
    "          0.61977213, 0.33056815]\n",
    "\n",
    "thresholds = [0.0490937, 0.05934905, 0.079377,\n",
    "              0.08584789, 0.11114267, 0.11639273,\n",
    "              0.15952202, 0.17554844, 0.18521942,\n",
    "              0.27259048, 0.31620708, 0.33056815,\n",
    "              0.39095342, 0.61977213]\n",
    "\n",
    "precisions = []\n",
    "recalls = []\n",
    "\n",
    "for thresh in thresholds:\n",
    "    temp_prediction = [1 if x >= thresh else 0 for x in y_pred]\n",
    "    p = precision_score(y_true, temp_prediction)\n",
    "    r = recall_score(y_true, temp_prediction)\n",
    "    precisions.append(p)\n",
    "    recalls.append(r)\n",
    "\n",
    "# Plotting\n",
    "plt.figure(figsize=(5, 5))\n",
    "plt.plot(recalls, precisions, marker='o')\n",
    "plt.xlabel('Recall', fontsize=12)\n",
    "plt.ylabel('Precision', fontsize=12)\n",
    "plt.title('Precision-Recall Curve')\n",
    "plt.grid(True)\n",
    "plt.show()\n"
   ]
  },
  {
   "cell_type": "raw",
   "id": "54a37562-77da-4477-9f43-4385fe92849b",
   "metadata": {},
   "source": [
    "💡 it’s challenging to choose a value of threshold that gives both\n",
    "good precision and recall values. If the threshold is too high, you have a smaller\n",
    "number of true positives and a high number of false negatives. This decreases your\n",
    "recall; however, your precision score will be high. If you reduce the threshold too\n",
    "low, false positives will increase a lot, and precision will be less.\n",
    "- Both precision and recall range from 0 to 1 and a value closer to 1 is better."
   ]
  },
  {
   "cell_type": "markdown",
   "id": "34d1663e-ab27-4703-ae21-3c7e4a9c331d",
   "metadata": {},
   "source": [
    "#### F1 Score "
   ]
  },
  {
   "cell_type": "markdown",
   "id": "3f82a2aa-5551-4521-9551-a11b035c6766",
   "metadata": {},
   "source": [
    "- metric that combines both precision and recall.\n",
    "- F1 = 2PR / (P + R)\n",
    "- F1 = 2TP / (2TP + FP + FN)\n",
    "- F1 score also ranges from 0 to 1,\n",
    "and a perfect prediction model has an F1 of 1. When dealing with datasets that have\n",
    "skewed targets, we should look at F1 (or precision and recall) instead of accuracy."
   ]
  },
  {
   "cell_type": "code",
   "execution_count": 44,
   "id": "f2c7d3ea-52e8-4647-a3c0-1d03e48a76c8",
   "metadata": {},
   "outputs": [],
   "source": [
    "def f1(y_true, y_pred):\n",
    "    \"\"\"\n",
    "    Function to calculate f1 score\n",
    "    :param y_true: list of true values\n",
    "    :param y_pred: list of predicted values\n",
    "    :return: f1 score\n",
    "    \"\"\"\n",
    "    p = precision(y_true, y_pred)\n",
    "    r = recall(y_true, y_pred)\n",
    "    score = 2 * p * r / (p + r)\n",
    "    return score"
   ]
  },
  {
   "cell_type": "code",
   "execution_count": 45,
   "id": "79675d3a-239c-40f1-b787-2bedf28a1999",
   "metadata": {},
   "outputs": [
    {
     "data": {
      "text/plain": [
       "0.5714285714285715"
      ]
     },
     "execution_count": 45,
     "metadata": {},
     "output_type": "execute_result"
    }
   ],
   "source": [
    "y_true = [0, 0, 0, 1, 0, 0, 0, 0, 0, 0,\n",
    "          1, 0, 0, 0, 0, 0, 0, 0, 1, 0]\n",
    "y_pred = [0, 0, 1, 0, 0, 0, 1, 0, 0, 0,\n",
    "          1, 0, 0, 0, 0, 0, 0, 0, 1, 0]\n",
    "f1(y_true, y_pred)"
   ]
  },
  {
   "cell_type": "code",
   "execution_count": 46,
   "id": "3721fbe4-bd06-45a9-82b2-b7cc5c5fc8bc",
   "metadata": {},
   "outputs": [
    {
     "data": {
      "text/plain": [
       "0.5714285714285714"
      ]
     },
     "execution_count": 46,
     "metadata": {},
     "output_type": "execute_result"
    }
   ],
   "source": [
    "from sklearn import metrics\n",
    "metrics.f1_score(y_true,y_pred)"
   ]
  },
  {
   "cell_type": "markdown",
   "id": "5c8c7bad-7159-4452-b527-8b314e2225c3",
   "metadata": {},
   "source": [
    "#### TPR or True positive Rate (💡 Sensitivity)\n",
    "- TPR = TP / (TP + FN)"
   ]
  },
  {
   "cell_type": "code",
   "execution_count": 47,
   "id": "57147261-190f-41ce-9262-26ed513541b9",
   "metadata": {},
   "outputs": [],
   "source": [
    "def tpr(y_true, y_pred):\n",
    "    \"\"\"\n",
    "    Function to calculate tpr\n",
    "    :param y_true: list of true values\n",
    "    :param y_pred: list of predicted values\n",
    "    :return: tpr/recall\n",
    "    \"\"\"\n",
    "    return recall(y_true, y_pred)"
   ]
  },
  {
   "cell_type": "markdown",
   "id": "39bd6ee5-22b3-44ec-8f66-bfc3f9200b55",
   "metadata": {},
   "source": [
    "#### FPR or False Positive Rate, which is defined as:\n",
    "- FPR = FP / (TN + FP)"
   ]
  },
  {
   "cell_type": "code",
   "execution_count": 48,
   "id": "4b26408c-e60d-4f02-a05c-dca74c31905e",
   "metadata": {},
   "outputs": [],
   "source": [
    "def fpr(y_true, y_pred):\n",
    "    \"\"\"\n",
    "    Function to calculate fpr\n",
    "    :param y_true: list of true values\n",
    "    :param y_pred: list of predicted values\n",
    "    :return: fpr\n",
    "    \"\"\"\n",
    "    fp = false_positive(y_true, y_pred)\n",
    "    tn = true_negative(y_true, y_pred)\n",
    "    return fp / (tn + fp)"
   ]
  },
  {
   "cell_type": "markdown",
   "id": "afab2fef-c71c-4243-8b88-d2599e804dd5",
   "metadata": {},
   "source": [
    "####  💡 (1 - FPR) is known as specificity or True Negative Rate or TNR."
   ]
  },
  {
   "cell_type": "code",
   "execution_count": 49,
   "id": "4eda0a9a-8b44-4615-8d0e-13b17b16fb86",
   "metadata": {},
   "outputs": [],
   "source": [
    "tpr_list = []\n",
    "fpr_list = []\n",
    "# actual targets\n",
    "y_true = [0, 0, 0, 0, 1, 0, 1,\n",
    "0, 0, 1, 0, 1, 0, 0, 1]\n",
    "# predicted probabilities of a sample being 1\n",
    "y_pred = [0.1, 0.3, 0.2, 0.6, 0.8, 0.05,\n",
    "0.9, 0.5, 0.3, 0.66, 0.3, 0.2,\n",
    "0.85, 0.15, 0.99]\n",
    "# handmade thresholds\n",
    "thresholds = [0, 0.1, 0.2, 0.3, 0.4, 0.5,\n",
    "0.6, 0.7, 0.8, 0.85, 0.9, 0.99, 1.0]\n",
    "# loop over all thresholds\n",
    "for thresh in thresholds:\n",
    "    # calculate predictions for a given threshold\n",
    "    temp_pred = [1 if x >= thresh else 0 for x in y_pred]\n",
    "    # calculate tpr\n",
    "    temp_tpr = tpr(y_true, temp_pred)\n",
    "    # calculate fpr\n",
    "    temp_fpr = fpr(y_true, temp_pred)\n",
    "    # append tpr and fpr to lists\n",
    "    tpr_list.append(temp_tpr)\n",
    "    fpr_list.append(temp_fpr)\n",
    "    "
   ]
  },
  {
   "cell_type": "code",
   "execution_count": null,
   "id": "1b9e3a29-5a8f-4704-944f-cf0c3f2aad9f",
   "metadata": {},
   "outputs": [],
   "source": []
  },
  {
   "cell_type": "code",
   "execution_count": 50,
   "id": "3812389a-184c-4214-a7e9-aa2a0dfd9899",
   "metadata": {},
   "outputs": [
    {
     "data": {
      "image/png": "[encoded data removed]",
      "text/plain": [
       "<Figure size 700x700 with 1 Axes>"
      ]
     },
     "metadata": {},
     "output_type": "display_data"
    }
   ],
   "source": [
    "plt.figure(figsize=(7,7))\n",
    "plt.fill_between(fpr_list,tpr_list,alpha=0.4)\n",
    "plt.plot(fpr_list,tpr_list,lw=3)\n",
    "plt.xlim(0,1.0)\n",
    "plt.xlim(0,1.0)\n",
    "plt.xlabel('FPR',fontsize=15)\n",
    "plt.xlabel('TPR',fontsize=15)\n",
    "plt.show()"
   ]
  },
  {
   "cell_type": "raw",
   "id": "adc1d771-3021-46fe-abb5-4f8ea7ace16c",
   "metadata": {},
   "source": [
    "This curve is also known as the Receiver Operating Characteristic (ROC). And\n",
    "if we calculate the area under this ROC curve, we are calculating another metric\n",
    "which is used very often when you have a dataset which has skewed binary targets.\n",
    "This metric is known as the Area Under ROC Curve or Area Under Curve or\n",
    "just simply AUC."
   ]
  },
  {
   "cell_type": "code",
   "execution_count": 51,
   "id": "9eca5b0c-cdaa-44b5-b736-3a80993f4e85",
   "metadata": {},
   "outputs": [
    {
     "data": {
      "text/plain": [
       "0.8300000000000001"
      ]
     },
     "execution_count": 51,
     "metadata": {},
     "output_type": "execute_result"
    }
   ],
   "source": [
    "from sklearn import metrics\n",
    "y_true = [0, 0, 0, 0, 1, 0, 1,\n",
    "0, 0, 1, 0, 1, 0, 0, 1]\n",
    "y_pred = [0.1, 0.3, 0.2, 0.6, 0.8, 0.05,\n",
    "0.9, 0.5, 0.3, 0.66, 0.3, 0.2,\n",
    "0.85, 0.15, 0.99]\n",
    "metrics.roc_auc_score(y_true,y_pred)"
   ]
  },
  {
   "cell_type": "markdown",
   "id": "29936049-1610-49fd-9109-8f3a5b89576c",
   "metadata": {},
   "source": [
    "AUC values range from 0 to 1.\n",
    "- AUC = 1 implies you have a perfect model. Most of the time, it means that\n",
    "you made some mistake with validation and should revisit data processing\n",
    "and validation pipeline of yours. If you didn’t make any mistakes, then\n",
    "congratulations, you have the best model one can have for the dataset you\n",
    "built it on.\n",
    "- AUC = 0 implies that your model is very bad (or very good!). Try inverting\n",
    "the probabilities for the predictions, for example, if your probability for the\n",
    "positive class is p, try substituting it with 1-p. This kind of AUC may also\n",
    "mean that there is some problem with your validation or data processing.\n",
    "- AUC = 0.5 implies that your predictions are random. So, for any binary\n",
    "classification problem, if I predict all targets as 0.5, I will get an AUC of\n",
    "0.5.\n",
    "\n",
    "- - AUC values between 0 and 0.5 imply that your model is worse than random. Most\n",
    "of the time, it’s because you inverted the classes. If you try to invert your\n",
    "predictions, your AUC might become more than 0.5. AUC values closer to 1 are\n",
    "considered good."
   ]
  },
  {
   "cell_type": "markdown",
   "id": "97eb3d93-8ffb-4a8f-9211-f009cda6b75a",
   "metadata": {},
   "source": [
    "Prediction = Probability >= Threshold\n",
    "Which means, that prediction is a new list which contains only binary variables. An\n",
    "item in prediction is 1 if the probability is greater than or equal to a given threshold\n",
    "else the value is 0.\n",
    "And guess what, you can use the ROC curve to choose this threshold! "
   ]
  },
  {
   "cell_type": "code",
   "execution_count": 52,
   "id": "b01d917c-9572-4488-ba1a-6a22e96befa9",
   "metadata": {},
   "outputs": [],
   "source": [
    "# empty lists to store true positive\n",
    "# and false positive values\n",
    "tp_list = []\n",
    "fp_list = []\n",
    "# actual targets\n",
    "y_true = [0, 0, 0, 0, 1, 0, 1,\n",
    "0, 0, 1, 0, 1, 0, 0, 1]\n",
    "# predicted probabilities of a sample being 1\n",
    "y_pred = [0.1, 0.3, 0.2, 0.6, 0.8, 0.05,\n",
    "0.9, 0.5, 0.3, 0.66, 0.3, 0.2,\n",
    "0.85, 0.15, 0.99]\n",
    "# some handmade thresholds\n",
    "thresholds = [0, 0.1, 0.2, 0.3, 0.4, 0.5,\n",
    "0.6, 0.7, 0.8, 0.85, 0.9, 0.99, 1.0]\n",
    "# loop over all thresholds\n",
    "for thresh in thresholds:\n",
    "    # calculate predictions for a given threshold\n",
    "    temp_pred = [1 if x >= thresh else 0 for x in y_pred]\n",
    "    # calculate tp\n",
    "    temp_tp = true_positive(y_true, temp_pred)\n",
    "    # calculate fp\n",
    "    temp_fp = false_positive(y_true, temp_pred)\n",
    "    # append tp and fp to lists\n",
    "    tp_list.append(temp_tp)\n",
    "    fp_list.append(temp_fp)"
   ]
  },
  {
   "cell_type": "markdown",
   "id": "6dd46d00-6399-4cd3-a93c-0f9372964267",
   "metadata": {},
   "source": [
    "- the top-left value on ROC curve should give you a quite good\n",
    "- AUC is a widely used metric for skewed binary classification tasks in the industry,"
   ]
  },
  {
   "cell_type": "markdown",
   "id": "a986989f-ac66-4875-92a6-28284be7f11d",
   "metadata": {},
   "source": [
    "### log loss\n",
    "- Log Loss = - 1.0 * ( target * log(prediction) + (1 - target) * log(1 - prediction) )"
   ]
  },
  {
   "cell_type": "markdown",
   "id": "40305a8e-3ee3-4877-9236-996628385f4c",
   "metadata": {},
   "source": [
    "if you are 51% sure about a sample belonging to class 1, log loss\n",
    "would be:\n",
    "- 1.0 * ( 1 * log(0.51) + (1 - 1) * log(1 – 0.51) ) = 0.67\n",
    "And if you are 49% sure for a sample belonging to class 0, log loss would be:\n",
    "- 1.0 * ( 0 * log(0.49) + (1 - 0) * log(1 – 0.49) ) = 0.67"
   ]
  },
  {
   "cell_type": "markdown",
   "id": "73195f3b-594d-44bc-af1a-9a8fe73a051a",
   "metadata": {},
   "source": [
    "if you are 51% sure about a sample belonging to class 1, log loss\n",
    "would be:\n",
    "- 1.0 * ( 1 * log(0.51) + (1 - 1) * log(1 – 0.51) ) = 0.67\n",
    "And if you are 49% sure for a sample belonging to class 0, log loss would be:\n",
    "- 1.0 * ( 0 * log(0.49) + (1 - 0) * log(1 – 0.49) ) = 0.67"
   ]
  },
  {
   "cell_type": "raw",
   "id": "185e09a6-0e43-424c-8910-ed906057cf67",
   "metadata": {},
   "source": [
    "We can calculate\n",
    "precision ,recall , F1 for each class in a multi-class classification problem.\n",
    "can similarly convert AUC and log loss to multi-class formats too. This format of\n",
    "conversion is known as \n",
    "one-vs-all. "
   ]
  },
  {
   "cell_type": "markdown",
   "id": "2271f36e-52d0-4115-901a-3e1dfdb98d36",
   "metadata": {},
   "source": [
    "- Macro averaged precision:\n",
    "- - calculate precision for all classes individually\n",
    "  and then average them\n",
    "- Micro averaged precision:\n",
    "- - calculate class wise true positive and false\n",
    "  positive and then use that to calculate overall precision\n",
    "- Weighted precision:\n",
    "- - same as macro but in this case, it is weighted average\n",
    "  depending on the number of items in each class"
   ]
  },
  {
   "cell_type": "code",
   "execution_count": 76,
   "id": "a5426015-6aec-458f-acc3-dbe5af769699",
   "metadata": {},
   "outputs": [],
   "source": [
    "import numpy as np\n",
    "def macro_precision(y_true, y_pred):\n",
    "    \"\"\"\n",
    "    Function to calculate macro averaged precision\n",
    "    :param y_true: list of true values\n",
    "    :param y_pred: list of predicted values\n",
    "    :return: macro precision score\n",
    "    \"\"\"\n",
    "    # find the number of classes by taking\n",
    "    # length of unique values in true list\n",
    "    num_classes = len(np.unique(y_true))\n",
    "    # initialize precision to 0\n",
    "    precision = 0\n",
    "    # loop over all classes\n",
    "    for class_ in range(num_classes):\n",
    "        # all classes except current are considered negative\n",
    "        temp_true = [1 if p == class_ else 0 for p in y_true]\n",
    "        temp_pred = [1 if p == class_ else 0 for p in y_pred]\n",
    "        # calculate true positive for current class\n",
    "        tp = true_positive(temp_true, temp_pred)\n",
    "        # calculate false positive for current class\n",
    "        fp = false_positive(temp_true, temp_pred)\n",
    "        # calculate precision for current class\n",
    "        temp_precision = tp / (tp + fp)\n",
    "        # keep adding precision for all classes\n",
    "        precision += temp_precision\n",
    "    # calculate and return average precision over all classes\n",
    "    precision /= num_classes\n",
    "    return precision\n",
    "\n",
    "\n",
    "import numpy as np\n",
    "def micro_precision(y_true, y_pred):\n",
    "    \"\"\"\n",
    "    Function to calculate micro averaged precision\n",
    "    :param y_true: list of true values\n",
    "    :param y_pred: list of predicted values\n",
    "    :return: micro precision score\n",
    "    \"\"\"\n",
    "    # find the number of classes by taking\n",
    "    # length of unique values in true list\n",
    "    num_classes = len(np.unique(y_true))\n",
    "    # initialize tp and fp to 0\n",
    "    tp = 0\n",
    "    fp = 0\n",
    "    # loop over all classes\n",
    "    for class_ in range(num_classes):\n",
    "        # all classes except current are considered negative\n",
    "        temp_true = [1 if p == class_ else 0 for p in y_true]\n",
    "        temp_pred = [1 if p == class_ else 0 for p in y_pred]\n",
    "        # calculate true positive for current class\n",
    "        # and update overall tp\n",
    "        tp += true_positive(temp_true, temp_pred)\n",
    "        # calculate false positive for current class\n",
    "        # and update overall tp\n",
    "        fp += false_positive(temp_true, temp_pred)\n",
    "    # calculate and return overall precision\n",
    "    precision = tp / (tp + fp)\n",
    "    return precision\n",
    "\n",
    "\n",
    "from collections import Counter\n",
    "import numpy as np\n",
    "def weighted_precision(y_true, y_pred):\n",
    "    \"\"\"\n",
    "    Function to calculate weighted averaged precision\n",
    "    :param y_true: list of true values\n",
    "    :param y_pred: list of predicted values\n",
    "    :return: weighted precision score\n",
    "    \"\"\"\n",
    "    # find the number of classes by taking\n",
    "    # length of unique values in true list\n",
    "    num_classes = len(np.unique(y_true))\n",
    "    # create class:sample count dictionary\n",
    "    # it looks something like this:\n",
    "    # {0: 20, 1:15, 2:21}\n",
    "    class_counts = Counter(y_true)\n",
    "    # initialize precision to 0\n",
    "    precision = 0\n",
    "    # loop over all classes\n",
    "    for class_ in range(num_classes):\n",
    "        # all classes except current are considered negative\n",
    "        temp_true = [1 if p == class_ else 0 for p in y_true]\n",
    "        temp_pred = [1 if p == class_ else 0 for p in y_pred]\n",
    "        # calculate tp and fp for class\n",
    "        tp = true_positive(temp_true, temp_pred)\n",
    "        fp = false_positive(temp_true, temp_pred)\n",
    "        # calculate precision of class\n",
    "        temp_precision = tp / (tp + fp)\n",
    "        # multiply precision with count of samples in class\n",
    "        weighted_precision = class_counts[class_] * temp_precision\n",
    "        # add to overall precision\n",
    "        precision += weighted_precision\n",
    "    # calculate overall precision by dividing by\n",
    "    # total number of samples\n",
    "    overall_precision = precision / len(y_true)\n",
    "    return overall_precision"
   ]
  },
  {
   "cell_type": "code",
   "execution_count": 78,
   "id": "5cc1e0c7-6651-4272-91d8-7353d21ceed2",
   "metadata": {},
   "outputs": [
    {
     "name": "stdout",
     "output_type": "stream",
     "text": [
      "0.3611111111111111\n",
      "0.3611111111111111\n",
      "0.4444444444444444\n",
      "0.4444444444444444\n",
      "0.39814814814814814\n",
      "0.39814814814814814\n"
     ]
    },
    {
     "data": {
      "text/plain": [
       "0.39814814814814814"
      ]
     },
     "execution_count": 78,
     "metadata": {},
     "output_type": "execute_result"
    }
   ],
   "source": [
    "from sklearn import metrics\n",
    "y_true = [0, 1, 2, 0, 1, 2, 0, 2, 2]\n",
    "y_pred = [0, 2, 1, 0, 2, 1, 0, 0, 2]\n",
    "print(macro_precision(y_true, y_pred))\n",
    "0.3611111111111111\n",
    "print(metrics.precision_score(y_true, y_pred, average=\"macro\"))\n",
    "0.3611111111111111\n",
    "print(micro_precision(y_true, y_pred))\n",
    "0.4444444444444444\n",
    "print(metrics.precision_score(y_true, y_pred, average=\"micro\"))\n",
    "0.4444444444444444\n",
    "print(weighted_precision(y_true, y_pred))\n",
    "0.39814814814814814\n",
    "print(metrics.precision_score(y_true, y_pred, average=\"weighted\"))\n",
    "0.39814814814814814"
   ]
  },
  {
   "cell_type": "markdown",
   "id": "f1f8784f-d58c-4869-89a9-36b717476784",
   "metadata": {},
   "source": [
    "- - One version of F1"
   ]
  },
  {
   "cell_type": "code",
   "execution_count": null,
   "id": "253dc09b-2283-42fa-ab3a-29f30472c9c3",
   "metadata": {},
   "outputs": [],
   "source": []
  },
  {
   "cell_type": "code",
   "execution_count": 83,
   "id": "9d2fe6a5-a778-4eda-8e40-34295e5b0b1e",
   "metadata": {},
   "outputs": [],
   "source": [
    "from collections import Counter\n",
    "import numpy as np\n",
    "def weighted_f1(y_true, y_pred):\n",
    "    \"\"\"\n",
    "    Function to calculate weighted f1 score\n",
    "    :param y_true: list of true values\n",
    "    :param y_proba: list of predicted values\n",
    "    :return: weighted f1 score\n",
    "    \"\"\"\n",
    "    # find the number of classes by taking\n",
    "    # length of unique values in true list\n",
    "    num_classes = len(np.unique(y_true))\n",
    "    # create class:sample count dictionary\n",
    "    # it looks something like this:\n",
    "    # {0: 20, 1:15, 2:21}\n",
    "    class_counts = Counter(y_true)\n",
    "    # initialize f1 to 0\n",
    "    f1 = 0\n",
    "    # loop over all classes\n",
    "    for class_ in range(num_classes):\n",
    "        # all classes except current are considered negative\n",
    "        temp_true = [1 if p == class_ else 0 for p in y_true]\n",
    "        temp_pred = [1 if p == class_ else 0 for p in y_pred]\n",
    "        # calculate precision and recall for class\n",
    "        p = precision(temp_true, temp_pred)\n",
    "        r = recall(temp_true, temp_pred)\n",
    "        # calculate f1 of class\n",
    "        if p + r != 0:\n",
    "            temp_f1 = 2 * p * r / (p + r)\n",
    "        else:\n",
    "            temp_f1 = 0\n",
    "        # multiply f1 with count of samples in class\n",
    "        weighted_f1 = class_counts[class_] * temp_f1\n",
    "        # add to f1 precision\n",
    "        f1 += weighted_f1\n",
    "    # calculate overall F1 by dividing by\n",
    "    # total number of samples\n",
    "    overall_f1 = f1 / len(y_true)\n",
    "    return overall_f1"
   ]
  },
  {
   "cell_type": "code",
   "execution_count": 84,
   "id": "6217b067-8680-4ffc-8ae9-2907bab12416",
   "metadata": {},
   "outputs": [
    {
     "name": "stdout",
     "output_type": "stream",
     "text": [
      "0.41269841269841273\n",
      "0.4126984126984127\n"
     ]
    },
    {
     "data": {
      "text/plain": [
       "0.41269841269841273"
      ]
     },
     "execution_count": 84,
     "metadata": {},
     "output_type": "execute_result"
    }
   ],
   "source": [
    "from sklearn import metrics\n",
    "y_true = [0, 1, 2, 0, 1, 2, 0, 2, 2]\n",
    "y_pred = [0, 2, 1, 0, 2, 1, 0, 0, 2]\n",
    "print(weighted_f1(y_true, y_pred))\n",
    "0.41269841269841273\n",
    "print(metrics.f1_score(y_true, y_pred, average=\"weighted\"))\n",
    "0.41269841269841273"
   ]
  },
  {
   "cell_type": "raw",
   "id": "1d658bdd-5203-4120-a6e0-b83071393b77",
   "metadata": {},
   "source": [
    "we have precision, recall and F1 implemented for multi-class problems. You\n",
    "can similarly convert AUC and log loss to multi-class formats too. This format of\n",
    "conversion is known as one-vs-all. "
   ]
  },
  {
   "cell_type": "markdown",
   "id": "c3e6262b-a93b-4a93-b1f6-34e8da4ab4f3",
   "metadata": {},
   "source": [
    "### Confusion Matrix"
   ]
  },
  {
   "cell_type": "markdown",
   "id": "94bd32f3-bcb8-4678-9a79-de10c001d964",
   "metadata": {},
   "source": [
    "- FP as Type-I error and FN as Type-II error."
   ]
  },
  {
   "cell_type": "raw",
   "id": "bb4a2cf9-fbd0-453d-a1f9-74e698f7480e",
   "metadata": {},
   "source": [
    "                                   | Actual Targets            |\n",
    "| Predictions                      |   Class 1   |   Class 0   |\n",
    "| -------------------------------- | ----------- | ----------- |\n",
    "|   Class 1                        |   TP        |   FP        |\n",
    "|   Class 0                        |   FN        |   TN        |\n"
   ]
  },
  {
   "cell_type": "raw",
   "id": "7a890e38-dc34-43e7-8727-dec824d4d6e6",
   "metadata": {},
   "source": [
    "- A perfect confusion matrix should only be filled diagonally from left to right."
   ]
  },
  {
   "cell_type": "raw",
   "id": "429d2f1d-29cd-4d78-83bf-531ccde8cd7e",
   "metadata": {},
   "source": [
    "Suppose we have the following actual classes:\n",
    "[0, 1, 2, 0, 1, 2, 0, 2, 2]\n",
    "And our predictions are:\n",
    "[0, 2, 1, 0, 2, 1, 0, 0, 2]\n",
    "Then our confusion matrix will look as shown below"
   ]
  },
  {
   "cell_type": "raw",
   "id": "eddc188b-cc63-4514-9cd8-d017838b7e58",
   "metadata": {},
   "source": [
    "                       |        Actual         |\n",
    "| Predicted            | 0     | 1     | 2     |\n",
    "| ---------------------| ----- | ----- | ----- |\n",
    "| 0                    | 3     | 0     | 1     |\n",
    "| 1                    | 0     | 0     | 2     |\n",
    "| 2                    | 0     | 2     | 1     |\n"
   ]
  },
  {
   "cell_type": "code",
   "execution_count": 13,
   "id": "2daff12a-1aaa-4d3f-9313-aa55f0d34af2",
   "metadata": {},
   "outputs": [
    {
     "data": {
      "text/plain": [
       "Text(0.5, 57.249999999999986, 'Predicted Labels')"
      ]
     },
     "execution_count": 13,
     "metadata": {},
     "output_type": "execute_result"
    },
    {
     "data": {
      "image/png": "[encoded data removed]",
      "text/plain": [
       "<Figure size 1000x1000 with 1 Axes>"
      ]
     },
     "metadata": {},
     "output_type": "display_data"
    }
   ],
   "source": [
    "import matplotlib.pyplot as plt\n",
    "import seaborn as sns\n",
    "from sklearn import metrics\n",
    "# some targets\n",
    "y_true = [0, 1, 2, 0, 1, 2, 0, 2, 2]\n",
    "#some predictions\n",
    "y_pred = [0, 2, 1, 0, 2, 1, 0, 0, 2]\n",
    "# get confusion matrix from sklearn\n",
    "cm=metrics.confusion_matrix(y_true,y_pred)\n",
    "# plot using matplotlib and seaborn\n",
    "plt.figure(figsize=(10,10))\n",
    "cmap=sns.cubehelix_palette(50,hue=0.05,rot=0,light=0.9,dark=0,as_cmap=True)\n",
    "sns.set(font_scale=2.5)\n",
    "sns.heatmap(cm,annot=True,cmap=cmap,cbar=False)\n",
    "plt.ylabel('Actual Labels', fontsize=20)\n",
    "plt.xlabel('Predicted Labels', fontsize=20)\n"
   ]
  },
  {
   "cell_type": "markdown",
   "id": "b86417b4-586a-4c90-a7dd-19f148cbfc3b",
   "metadata": {},
   "source": [
    "- multi-label classification. \n",
    "- -In multi-label classification, each sample can have one or more\n",
    "   classes associated with it. "
   ]
  },
  {
   "cell_type": "markdown",
   "id": "62ee42fe-f74c-48fc-955f-c6207fc64d85",
   "metadata": {},
   "source": [
    "The metrics for this type of classification problem are a bit different. Some suitable\n",
    "and most common metrics are:\n",
    "- Precision at k (P@k)\n",
    "- Average precision at k (AP@k)\n",
    "- Mean average precision at k (MAP@k)\n",
    "- Log loss"
   ]
  },
  {
   "cell_type": "markdown",
   "id": "dabb73a2-33e0-4460-8d40-f78d7c937958",
   "metadata": {},
   "source": [
    "#### precision at k or P@k\n",
    "- out of y_pred ,how many were there in y_true"
   ]
  },
  {
   "cell_type": "code",
   "execution_count": 117,
   "id": "c92c049c-0ec4-4671-98d7-848861c9fbc5",
   "metadata": {},
   "outputs": [],
   "source": [
    "def pk(y_true, y_pred, k):\n",
    "    \"\"\"\n",
    "    This function calculates precision at k\n",
    "    for a single sample\n",
    "    :param y_true: list of values, actual classes\n",
    "    :param y_pred: list of values, predicted classes\n",
    "    :param k: the value for k\n",
    "    :return: precision at a given value k\n",
    "    \"\"\"\n",
    "    # if k is 0, return 0. we should never have this\n",
    "    # as k is always >= 1\n",
    "    if k == 0:\n",
    "        return 0\n",
    "    # we are interested only in top-k predictions\n",
    "    y_pred = y_pred[:k]\n",
    "    # convert predictions to set\n",
    "    pred_set = set(y_pred)\n",
    "    # convert actual values to set\n",
    "    true_set = set(y_true)\n",
    "    # find common values\n",
    "    common_values = pred_set.intersection(true_set)\n",
    "    # return length of common values over k\n",
    "    return len(common_values) / len(y_pred[:k])\n",
    "# ════════════════════════════════════════════════"
   ]
  },
  {
   "cell_type": "markdown",
   "id": "bcf6a3b9-a8c9-4c1a-87cb-d886d9685213",
   "metadata": {},
   "source": [
    "#### Average Precision at k(AP@K)"
   ]
  },
  {
   "cell_type": "code",
   "execution_count": 118,
   "id": "94c77f62-1b9d-4efc-9c31-01fe3bbf9092",
   "metadata": {},
   "outputs": [],
   "source": [
    "def apk(y_true, y_pred, k):\n",
    "    \"\"\"\n",
    "    This function calculates average precision at k\n",
    "    for a single sample\n",
    "    :param y_true: list of values, actual classes\n",
    "    :param y_pred: list of values, predicted classes\n",
    "    :return: average precision at a given value k\n",
    "    \"\"\"\n",
    "    # initialize p@k list of values\n",
    "    pk_values = []\n",
    "    # loop over all k. from 1 to k + 1\n",
    "    for i in range(1, k + 1):\n",
    "    # calculate p@i and append to list\n",
    "        pk_values.append(pk(y_true, y_pred, i))\n",
    "    # if we have no values in the list, return 0\n",
    "    if len(pk_values) == 0:\n",
    "        return 0\n",
    "    # else, we return the sum of list over length of list\n",
    "    return sum(pk_values) / len(pk_values)"
   ]
  },
  {
   "cell_type": "code",
   "execution_count": 119,
   "id": "13b45253-4323-4b01-8d59-8e8cf6683c05",
   "metadata": {},
   "outputs": [
    {
     "name": "stdout",
     "output_type": "stream",
     "text": [
      "y_true=[1, 2, 3],y_pred=[0, 1, 2],AP@1=0.0\n",
      "y_true=[1, 2, 3],y_pred=[0, 1, 2],AP@2=0.25\n",
      "y_true=[1, 2, 3],y_pred=[0, 1, 2],AP@3=0.38888888888888884\n",
      "y_true=[0, 2],y_pred=[1],AP@1=0.0\n",
      "y_true=[0, 2],y_pred=[1],AP@2=0.0\n",
      "y_true=[0, 2],y_pred=[1],AP@3=0.0\n",
      "y_true=[1],y_pred=[0, 2, 3],AP@1=0.0\n",
      "y_true=[1],y_pred=[0, 2, 3],AP@2=0.0\n",
      "y_true=[1],y_pred=[0, 2, 3],AP@3=0.0\n",
      "y_true=[2, 3],y_pred=[2, 3, 4, 0],AP@1=1.0\n",
      "y_true=[2, 3],y_pred=[2, 3, 4, 0],AP@2=1.0\n",
      "y_true=[2, 3],y_pred=[2, 3, 4, 0],AP@3=0.8888888888888888\n",
      "y_true=[1, 0],y_pred=[0, 1, 2],AP@1=1.0\n",
      "y_true=[1, 0],y_pred=[0, 1, 2],AP@2=1.0\n",
      "y_true=[1, 0],y_pred=[0, 1, 2],AP@3=0.8888888888888888\n",
      "y_true=[],y_pred=[0],AP@1=0.0\n",
      "y_true=[],y_pred=[0],AP@2=0.0\n",
      "y_true=[],y_pred=[0],AP@3=0.0\n"
     ]
    }
   ],
   "source": [
    "y_true = [\n",
    "         [1, 2, 3],\n",
    "         [0, 2],\n",
    "         [1],\n",
    "         [2, 3],\n",
    "         [1, 0],\n",
    "         []\n",
    "         ]\n",
    "y_pred = [\n",
    "         [0, 1, 2],\n",
    "         [1],\n",
    "         [0, 2, 3],\n",
    "         [2, 3, 4, 0],\n",
    "         [0, 1, 2],\n",
    "         [0]\n",
    "         ]\n",
    "for i in range(len(y_true)):\n",
    "    for j in range(1, 4):\n",
    "        print(f\"\"\"y_true={y_true[i]},y_pred={y_pred[i]},AP@{j}={apk(y_true[i], y_pred[i], k=j)}\"\"\")\n"
   ]
  },
  {
   "cell_type": "markdown",
   "id": "0a297b81-9ef5-439d-803e-e3df4ddd5ca0",
   "metadata": {},
   "source": [
    "#### Mean average precision at k (MAP@k)"
   ]
  },
  {
   "cell_type": "code",
   "execution_count": 123,
   "id": "2f949908-b5de-4112-8bcf-d532dea9982b",
   "metadata": {},
   "outputs": [],
   "source": [
    "def mapk(y_true, y_pred, k):\n",
    "    \"\"\"\n",
    "    This function calculates mean avg precision at k\n",
    "    for a single sample\n",
    "    :param y_true: list of values, actual classes\n",
    "    :param y_pred: list of values, predicted classes\n",
    "    :return: mean avg precision at a given value k\n",
    "    \"\"\"\n",
    "    # initialize empty list for apk values\n",
    "    apk_values = []\n",
    "    # loop over all samples\n",
    "    for i in range(len(y_true)):\n",
    "    # store apk values for every sample\n",
    "        apk_values.append(apk(y_true[i], y_pred[i], k=k))\n",
    "    # return mean of apk values list\n",
    "    return sum(apk_values) / len(apk_values)"
   ]
  },
  {
   "cell_type": "code",
   "execution_count": 124,
   "id": "f4e0cca1-83c9-47b9-a08e-f4654f309bbf",
   "metadata": {},
   "outputs": [
    {
     "name": "stdout",
     "output_type": "stream",
     "text": [
      "0.3333333333333333\n",
      "0.375\n",
      "0.3611111111111111\n",
      "0.34722222222222215\n"
     ]
    }
   ],
   "source": [
    "y_true = [\n",
    "                 [1, 2, 3],\n",
    "                 [0, 2],\n",
    "                 [1],\n",
    "                 [2, 3],\n",
    "                 [1, 0],\n",
    "                 []\n",
    "                 ]\n",
    "# Now, we can calculate MAP@k for k=1, 2, 3 and 4 for the same list of lists.\n",
    "# ═════════════════════════════════════════════════════════════════════════\n",
    "y_pred = [\n",
    "         [0, 1, 2],\n",
    "         [1],\n",
    "         [0, 2, 3],\n",
    "         [2, 3, 4, 0],\n",
    "         [0, 1, 2],\n",
    "         [0]\n",
    "         ]\n",
    "print(mapk(y_true, y_pred, k=1))\n",
    "0.3333333333333333\n",
    "print(mapk(y_true, y_pred, k=2))\n",
    "0.375\n",
    "print(mapk(y_true, y_pred, k=3))\n",
    "0.3611111111111111\n",
    "print(mapk(y_true, y_pred, k=4))\n",
    "# 0.34722222222222215"
   ]
  },
  {
   "cell_type": "markdown",
   "id": "2c153962-b38f-40b1-91b2-3827568a4ab9",
   "metadata": {},
   "source": [
    "- P@k, AP@k and MAP@k all range from 0 to 1 with 1 being the best."
   ]
  },
  {
   "cell_type": "code",
   "execution_count": 125,
   "id": "e0cd49c1-200e-412d-9e23-d627eb88564a",
   "metadata": {},
   "outputs": [],
   "source": [
    "# taken from:\n",
    "# https://github.com/benhamner/Metrics/blob/\n",
    "# master/Python/ml_metrics/average_precision.py\n",
    "import numpy as np\n",
    "def apk(actual, predicted, k=10):\n",
    "    \"\"\"\n",
    "    Computes the average precision at k.\n",
    "    This function computes the AP at k between two lists of\n",
    "    items.\n",
    "    Parameters\n",
    "    ----------\n",
    "    actual : list\n",
    "    predicted : list\n",
    "    k : int, optional\n",
    "    A list of elements to be predicted (order doesn't matter)\n",
    "    A list of predicted elements (order does matter)\n",
    "    The maximum number of predicted elements\n",
    "    Returns\n",
    "    -------\n",
    "    score : double\n",
    "    The average precision at k over the input lists\n",
    "    \"\"\"\n",
    "    if len(predicted)>k:\n",
    "        predicted = predicted[:k]\n",
    "    score = 0.0\n",
    "    num_hits = 0.0\n",
    "    for i,p in enumerate(predicted):\n",
    "        if p in actual and p not in predicted[:i]:\n",
    "            num_hits += 1.0\n",
    "            score += num_hits / (i+1.0)\n",
    "    if not actual:\n",
    "        return 0.0\n",
    "    return score / min(len(actual), k)"
   ]
  },
  {
   "cell_type": "raw",
   "id": "39cfe75b-20d9-4228-afcd-4783978611f3",
   "metadata": {},
   "source": [
    "log loss for multi-label classification. This is quite easy. You\n",
    "can convert the targets to binary format and then use a log loss for each column. In\n",
    "the end, you can take the average of log loss in each column. This is also known as\n",
    "mean column-wise log loss. Of course, there are other ways you can implement\n",
    "this, and you should explore it as you come across it.\n",
    "We have now reached a stage where we can say that we now know all binary, multi-\n",
    "class and multi-label classification metrics, and now we can move to regression\n",
    "metrics."
   ]
  },
  {
   "cell_type": "markdown",
   "id": "7f042a18-62fc-493c-a58c-4de59f37c2db",
   "metadata": {},
   "source": [
    "## Regression Metrics "
   ]
  },
  {
   "cell_type": "markdown",
   "id": "a01cb8ed-d3ca-463f-9141-90fac463881c",
   "metadata": {},
   "source": [
    "- Error = True Value – Predicted Value\n",
    "- Absolute Error = Abs ( True Value – Predicted Value )\n"
   ]
  },
  {
   "cell_type": "markdown",
   "id": "44a6e8a3-2467-4663-bff1-2d94793dc357",
   "metadata": {},
   "source": [
    "#### mean absolute error (MAE). \n",
    "- It’s just mean of all absolute errors"
   ]
  },
  {
   "cell_type": "code",
   "execution_count": 128,
   "id": "0237498c-ed6c-4d5b-8f3b-be7e744cd0ef",
   "metadata": {},
   "outputs": [],
   "source": [
    "import numpy as np\n",
    "def mean_absolute_error(y_true, y_pred):\n",
    "    \"\"\"\n",
    "    This function calculates mae\n",
    "    :param y_true: list of real numbers, true values\n",
    "    :param y_pred: list of real numbers, predicted values\n",
    "    :return: mean absolute error\n",
    "    \"\"\"\n",
    "    # initialize error at 0\n",
    "    error = 0\n",
    "    # loop over all samples in the true and predicted list\n",
    "    for yt, yp in zip(y_true, y_pred):\n",
    "    # calculate absolute error\n",
    "    # and add to error\n",
    "        error += np.abs(yt - yp)\n",
    "    # return mean error\n",
    "    return error / len(y_true)"
   ]
  },
  {
   "cell_type": "markdown",
   "id": "fca6d0bd-3638-43c7-a9e6-d1b8ef42a594",
   "metadata": {},
   "source": [
    "#### mean squared error (MSE).\n",
    "- Squared Error = ( True Value – Predicted Value )2"
   ]
  },
  {
   "cell_type": "code",
   "execution_count": 129,
   "id": "fd019589-dbfd-4e51-b30c-177bb09e481a",
   "metadata": {},
   "outputs": [],
   "source": [
    "def mean_squared_error(y_true, y_pred):\n",
    "    \"\"\"\n",
    "    This function calculates mse\n",
    "    :param y_true: list of real numbers, true values\n",
    "    :param y_pred: list of real numbers, predicted values\n",
    "    :return: mean squared error\n",
    "    \"\"\"\n",
    "    # initialize error at 0\n",
    "    error = 0\n",
    "    # loop over all samples in the true and predicted list\n",
    "    for yt, yp in zip(y_true, y_pred):\n",
    "    # calculate squared error\n",
    "    # and add to error\n",
    "        error += (yt - yp) ** 2\n",
    "    # return mean error\n",
    "    return error / len(y_true)"
   ]
  },
  {
   "cell_type": "markdown",
   "id": "aceaad3b-fe80-4c48-bb63-f039f69cb14a",
   "metadata": {},
   "source": [
    "#### MSE and RMSE (root mean squared error) \n",
    "- are the most popular metrics used in evaluating regression models.\n",
    "- RMSE = SQRT ( MSE )\n",
    "- Another type of error in same class is\n",
    "#### squared logarithmic error.\n",
    "- Some people call it SLE, and when we take mean of this error across all samples, it is known as\n",
    "MSLE (mean squared logarithmic error) and implemented as follows."
   ]
  },
  {
   "cell_type": "code",
   "execution_count": 131,
   "id": "34935d39-87c9-4eed-afb3-97861c8516ec",
   "metadata": {},
   "outputs": [],
   "source": [
    "import numpy as np\n",
    "def mean_squared_log_error(y_true, y_pred):\n",
    "    \"\"\"\n",
    "    This function calculates msle\n",
    "    :param y_true: list of real numbers, true values\n",
    "    :param y_pred: list of real numbers, predicted values\n",
    "    :return: mean squared logarithmic error\n",
    "    \"\"\"\n",
    "    # initialize error at 0\n",
    "    error = 0\n",
    "    # loop over all samples in true and predicted list\n",
    "    for yt, yp in zip(y_true, y_pred):\n",
    "    # calculate squared log error\n",
    "    # and add to error\n",
    "        error += (np.log(1 + yt) - np.log(1 + yp)) ** 2\n",
    "    # return mean error\n",
    "    return error / len(y_true)"
   ]
  },
  {
   "cell_type": "markdown",
   "id": "9301e222-0667-48ea-8afb-5744281b1c8f",
   "metadata": {},
   "source": [
    "#### Root mean squared logarithmic error \n",
    "- is just a square root of this. It is also known as RMSLE.\n",
    "- Then we have the percentage error:\n",
    "#### Percentage Error = ( ( True Value – Predicted Value ) / True Value ) * 100"
   ]
  },
  {
   "cell_type": "code",
   "execution_count": 132,
   "id": "b945cd14-b716-4c4e-829b-acf60413ff24",
   "metadata": {},
   "outputs": [],
   "source": [
    "def mean_percentage_error(y_true, y_pred):\n",
    "    \"\"\"\n",
    "    This function calculates mpe\n",
    "    :param y_true: list of real numbers, true values\n",
    "    :param y_pred: list of real numbers, predicted values\n",
    "    :return: mean percentage error\n",
    "    \"\"\"\n",
    "    # initialize error at 0\n",
    "    error = 0\n",
    "    # loop over all samples in true and predicted list\n",
    "    for yt, yp in zip(y_true, y_pred):\n",
    "    # calculate percentage error\n",
    "    # and add to error\n",
    "        error += (yt - yp) / yt\n",
    "    # return mean percentage error\n",
    "    return error / len(y_true)"
   ]
  },
  {
   "cell_type": "markdown",
   "id": "99223968-e3c1-477f-b273-2228fa54c29e",
   "metadata": {},
   "source": [
    "#### mean absolute percentage error or MAPE."
   ]
  },
  {
   "cell_type": "code",
   "execution_count": 133,
   "id": "4189a562-7f78-4b61-ba1c-5bc6c9d73dae",
   "metadata": {},
   "outputs": [],
   "source": [
    "import numpy as np\n",
    "def mean_abs_percentage_error(y_true, y_pred):\n",
    "    \"\"\"\n",
    "    This function calculates MAPE\n",
    "    :param y_true: list of real numbers, true values\n",
    "    :param y_pred: list of real numbers, predicted values\n",
    "    :return: mean absolute percentage error\n",
    "    \"\"\"\n",
    "    # initialize error at 0\n",
    "    error = 0\n",
    "    # loop over all samples in true and predicted list\n",
    "    for yt, yp in zip(y_true, y_pred):\n",
    "        # calculate percentage error\n",
    "        # and add to error\n",
    "        error += np.abs(yt - yp) / yt\n",
    "    # return mean percentage error\n",
    "    return error / len(y_true)"
   ]
  },
  {
   "cell_type": "markdown",
   "id": "32dc5077-8bd3-41f6-aa38-0d68a8e786c2",
   "metadata": {},
   "source": [
    "#### R2 (R-squared),\n",
    "- also known as the coefficient of determination.\n",
    "- In simple words, R-squared says how good your model fits the data. \n",
    "- R-squared closer to 1.0 says that the model fits the data quite well, whereas closer 0 means\n",
    "that model isn’t that good. \n",
    "- R-squared can also be negative when the model just\n",
    "makes absurd predictions."
   ]
  },
  {
   "cell_type": "markdown",
   "id": "81201111-8a1b-4ad1-bfb2-e8633828d6b4",
   "metadata": {},
   "source": [
    "$R^{2} = 1 - \\dfrac{\\sum_{i=1}^{N} (y_{t_i} - y_{p_i})^{2}}\n",
    "{\\sum_{i=1}^{N} (y_{t_i} - \\bar{y}_t)^{2}}$\n"
   ]
  },
  {
   "cell_type": "code",
   "execution_count": 137,
   "id": "b5f41cce-2bc2-4505-8c55-992ed5a6ac09",
   "metadata": {},
   "outputs": [],
   "source": [
    "import numpy as np\n",
    "\n",
    "def r2(y_true, y_pred):\n",
    "    \"\"\"\n",
    "    Coefficient of determination (R²).\n",
    "\n",
    "    Parameters\n",
    "    ----------\n",
    "    y_true : array‑like of shape (n_samples,)\n",
    "             Ground‑truth values.\n",
    "    y_pred : array‑like of shape (n_samples,)\n",
    "             Predicted values.\n",
    "\n",
    "    Returns\n",
    "    -------\n",
    "    float\n",
    "        R² score. 1 → perfect fit; 0 → predicts the mean; <0 → worse than mean.\n",
    "    \"\"\"\n",
    "    y_true = np.asarray(y_true, dtype=float)\n",
    "    y_pred = np.asarray(y_pred, dtype=float)\n",
    "\n",
    "    # Residual Sum of Squares (RSS)\n",
    "    numerator = np.sum((y_true - y_pred) ** 2)\n",
    "\n",
    "    # Total Sum of Squares (TSS)\n",
    "    denominator = np.sum((y_true - y_true.mean()) ** 2)\n",
    "\n",
    "    # Guard against division by zero (constant target)\n",
    "    if denominator == 0:\n",
    "        return 0.0\n",
    "\n",
    "    return 1 - numerator / denominator\n"
   ]
  },
  {
   "cell_type": "markdown",
   "id": "db5fa235-45ed-4fb9-b8f4-25df8a249adf",
   "metadata": {},
   "source": [
    "- mean absolute error in other way"
   ]
  },
  {
   "cell_type": "code",
   "execution_count": 138,
   "id": "65c3a93d-b28a-4cb7-86d1-083e9a9e747d",
   "metadata": {},
   "outputs": [],
   "source": [
    "\n",
    "import numpy as np\n",
    "def mae_np(y_true, y_pred):\n",
    "    return np.mean(np.abs(y_true - y_pred))"
   ]
  },
  {
   "cell_type": "markdown",
   "id": "72ecdd45-6e87-4f8d-a4f7-ce9d7b543092",
   "metadata": {},
   "source": [
    "### Advanced Metrics\n",
    "Quadratic weighted kappa, also known as QWK. It is also known as Cohen’s kappa. QWK measures the “agreement”\n",
    "between two “ratings”. \n",
    "The ratings can be any real numbers in 0 to N. And\n",
    "predictions are also in the same range. An agreement can be defined as how close\n",
    "these ratings are to each other. So, it’s suitable for a classification problem with N\n",
    "different categories/classes. If the agreement is high, the score is closer towards 1.0.\n",
    "In the case of low agreement, the score is close to 0. \n",
    "- A QWK greater than\n",
    "0.85 is considered to be very good!\n"
   ]
  },
  {
   "cell_type": "code",
   "execution_count": 142,
   "id": "011dd946-f2fe-4a6b-bf69-08218f7a86c3",
   "metadata": {},
   "outputs": [
    {
     "name": "stdout",
     "output_type": "stream",
     "text": [
      "0.33333333333333337\n",
      "0.4444444444444444\n"
     ]
    }
   ],
   "source": [
    "from sklearn import metrics\n",
    "y_true = [1, 2, 3, 1, 2, 3, 1, 2, 3]\n",
    "y_pred = [2, 1, 3, 1, 2, 3, 3, 1, 2]\n",
    "print(metrics.cohen_kappa_score(y_true, y_pred, weights=\"quadratic\"))\n",
    "# 0.33333333333333337\n",
    "print(metrics.accuracy_score(y_true, y_pred))\n",
    "# 0.4444444444444444"
   ]
  },
  {
   "cell_type": "markdown",
   "id": "658b2726-5146-4070-b481-34bfff9538db",
   "metadata": {},
   "source": [
    "Matthew’s Correlation Coefficient (MCC). \n",
    "- MCC ranges from -1 to 1. 1 is perfect prediction, -1 is imperfect prediction, and 0 is random\n",
    "prediction. \n",
    "- The formula for MCC is quite simple.\n",
    "$$\n",
    "\\text{MCC} = \\frac{TP \\cdot TN - FP \\cdot FN}{\\sqrt{(TP + FP)(TP + FN)(TN + FP)(TN + FN)}}\n",
    "$$\n"
   ]
  },
  {
   "cell_type": "code",
   "execution_count": 144,
   "id": "5a123f76-e9b9-4209-9a95-50f78bb0b904",
   "metadata": {},
   "outputs": [],
   "source": [
    "def mcc(y_true, y_pred):\n",
    "    \"\"\"\n",
    "    This function calculates Matthew's Correlation Coefficient\n",
    "    for binary classification.\n",
    "    :param y_true: list of true values\n",
    "    :param y_pred: list of predicted values\n",
    "    :return: mcc score\n",
    "    \"\"\"\n",
    "    tp = true_positive(y_true, y_pred)\n",
    "    tn = true_negative(y_true, y_pred)\n",
    "    fp = false_positive(y_true, y_pred)\n",
    "    fn = false_negative(y_true, y_pred)\n",
    "    numerator = (tp * tn) - (fp * fn)\n",
    "    denominator = (\n",
    "    (tp + fp) *\n",
    "    (fn + tn) *\n",
    "    (fp + tn) *\n",
    "    (tp + fn)\n",
    "    )\n",
    "    denominator = denominator ** 0.5\n",
    "    return numerator/denominator"
   ]
  },
  {
   "cell_type": "raw",
   "id": "5bba590d-0dcd-4753-90c9-0ef3618afacf",
   "metadata": {},
   "source": [
    "One thing to keep in mind is that to evaluate un-supervised methods, for example,\n",
    "some kind of clustering, it’s better to create or manually label the test set and keep\n",
    "it separate from everything that is going on in your modelling part. When you are\n",
    "done with clustering, you can evaluate the performance on the test set simply by\n",
    "using any of the supervised learning metrics."
   ]
  },
  {
   "cell_type": "code",
   "execution_count": null,
   "id": "c7479104-7379-4285-96e9-64de15cbf5bc",
   "metadata": {},
   "outputs": [],
   "source": []
  }
 ],
 "metadata": {
  "kernelspec": {
   "display_name": "Python 3 (ipykernel)",
   "language": "python",
   "name": "python3"
  },
  "language_info": {
   "codemirror_mode": {
    "name": "ipython",
    "version": 3
   },
   "file_extension": ".py",
   "mimetype": "text/x-python",
   "name": "python",
   "nbconvert_exporter": "python",
   "pygments_lexer": "ipython3",
   "version": "3.10.18"
  }
 },
 "nbformat": 4,
 "nbformat_minor": 5
}
