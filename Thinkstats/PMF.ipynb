{
 "cells": [
  {
   "cell_type": "code",
   "execution_count": 26,
   "id": "135aa8d7-3d21-41cb-8392-046d6d9bcda8",
   "metadata": {},
   "outputs": [],
   "source": [
    "import nsfg\n",
    "import thinkstats2"
   ]
  },
  {
   "cell_type": "code",
   "execution_count": 28,
   "id": "a77521a2-5686-4d1b-8aff-cb9ef5d8db04",
   "metadata": {},
   "outputs": [],
   "source": [
    "from os.path import basename, exists\n",
    "\n",
    "\n",
    "def download(url):\n",
    "    filename = basename(url)\n",
    "    if not exists(filename):\n",
    "        from urllib.request import urlretrieve\n",
    "\n",
    "        local, _ = urlretrieve(url, filename)\n",
    "        print(\"Downloaded \" + local)\n",
    "\n",
    "\n",
    "download(\"https://github.com/AllenDowney/ThinkStats2/raw/master/code/thinkstats2.py\")\n",
    "download(\"https://github.com/AllenDowney/ThinkStats2/raw/master/code/thinkplot.py\")"
   ]
  },
  {
   "cell_type": "code",
   "execution_count": 29,
   "id": "b3a2ed52-ffe2-4a89-8172-c07fd0c9ae21",
   "metadata": {},
   "outputs": [],
   "source": [
    "download(\"https://github.com/AllenDowney/ThinkStats2/raw/master/code/nsfg.py\")\n",
    "\n",
    "download(\"https://github.com/AllenDowney/ThinkStats2/raw/master/code/2002FemPreg.dct\")\n",
    "download(\n",
    "    \"https://github.com/AllenDowney/ThinkStats2/raw/master/code/2002FemPreg.dat.gz\"\n",
    ")"
   ]
  },
  {
   "cell_type": "code",
   "execution_count": 31,
   "id": "c9cc610b-c63f-4d1e-8f5a-cbac264fb5d3",
   "metadata": {},
   "outputs": [],
   "source": [
    "preg = nsfg.ReadFemPreg()"
   ]
  },
  {
   "cell_type": "code",
   "execution_count": 32,
   "id": "c20cf006-4c85-4cec-9ab4-6eade8389f0c",
   "metadata": {},
   "outputs": [],
   "source": [
    "live = preg[preg.outcome == 1]"
   ]
  },
  {
   "cell_type": "code",
   "execution_count": null,
   "id": "02fec68b-fccf-4e25-8b75-51b331e382d7",
   "metadata": {},
   "outputs": [],
   "source": []
  },
  {
   "cell_type": "code",
   "execution_count": 11,
   "id": "bfeda0f8-df59-420c-804f-7db58ba98aba",
   "metadata": {},
   "outputs": [],
   "source": [
    "import thinkstats2\n",
    "import thinkplot\n",
    "hist = thinkstats2.Hist([1, 2, 2, 3,4,1,5, 5])"
   ]
  },
  {
   "cell_type": "code",
   "execution_count": 14,
   "id": "b37f5b8f-b7f6-4040-ad85-afd130d627f6",
   "metadata": {},
   "outputs": [
    {
     "name": "stdout",
     "output_type": "stream",
     "text": [
      "1 2\n",
      "2 2\n",
      "3 1\n",
      "4 1\n",
      "5 2\n"
     ]
    }
   ],
   "source": [
    "n = hist.Total()\n",
    "d = {}\n",
    "for x, freq in hist.Items():\n",
    "    print(x,freq)\n",
    "    d[x] = freq / n"
   ]
  },
  {
   "cell_type": "code",
   "execution_count": 13,
   "id": "eddaac0c-8c82-470e-9e87-37df40fe4e62",
   "metadata": {},
   "outputs": [
    {
     "data": {
      "text/plain": [
       "{1: 0.25, 2: 0.25, 3: 0.125, 4: 0.125, 5: 0.25}"
      ]
     },
     "execution_count": 13,
     "metadata": {},
     "output_type": "execute_result"
    }
   ],
   "source": [
    "d"
   ]
  },
  {
   "cell_type": "code",
   "execution_count": 15,
   "id": "bdc0f781-14c4-44a3-b391-2efa2ae33667",
   "metadata": {},
   "outputs": [
    {
     "data": {
      "text/plain": [
       "Pmf({1: 0.2, 2: 0.4, 3: 0.2, 5: 0.2})"
      ]
     },
     "execution_count": 15,
     "metadata": {},
     "output_type": "execute_result"
    }
   ],
   "source": [
    "import thinkstats2\n",
    "pmf = thinkstats2.Pmf([1, 2, 2, 3, 5])\n",
    "pmf"
   ]
  },
  {
   "cell_type": "code",
   "execution_count": 19,
   "id": "b7aed30d-09cf-408f-8ba7-e64bc0257c40",
   "metadata": {},
   "outputs": [
    {
     "data": {
      "text/plain": [
       "0.4"
      ]
     },
     "execution_count": 19,
     "metadata": {},
     "output_type": "execute_result"
    }
   ],
   "source": [
    "# pmf.Prob(2)\n",
    "# or \n",
    "pmf[2]"
   ]
  },
  {
   "cell_type": "code",
   "execution_count": 21,
   "id": "458f4f17-02f2-426c-977f-359b28aae0f8",
   "metadata": {},
   "outputs": [
    {
     "name": "stdout",
     "output_type": "stream",
     "text": [
      "Increment the prob of 2: None\n",
      "after increment prob of 2: 0.6000000000000001\n",
      "Multiply the prob of 2: None\n",
      "after multiplication of prob 2: 0.30000000000000004\n",
      "Checking the normalization: 0.8999999999999999\n",
      "re-normalization: 0.8999999999999999\n",
      "Cheking the normalization 1.0\n"
     ]
    }
   ],
   "source": [
    "# increment the prob\n",
    "print('Increment the prob of 2:',pmf.Incr(2, 0.2))\n",
    "print('after increment prob of 2:',pmf.Prob(2))\n",
    "# Or mult\n",
    "print('Multiply the prob of 2:',pmf.Mult(2, 0.5))\n",
    "print('after multiplication of prob 2:',pmf.Prob(2))\n",
    "# if you modify the pmf it won't be normalised any more \n",
    "print('Checking the normalization:',pmf.Total())\n",
    "# to renormalize\n",
    "print('re-normalization:',pmf.Normalize())\n",
    "print('Cheking the normalization',pmf.Total())"
   ]
  },
  {
   "cell_type": "markdown",
   "id": "6bb3def6-8028-405f-86ab-96ecf7244f6d",
   "metadata": {},
   "source": [
    "### Plotting PMFs"
   ]
  },
  {
   "cell_type": "code",
   "execution_count": 53,
   "id": "fe63dce8-1738-4ddb-9abf-4852fe8ee515",
   "metadata": {},
   "outputs": [
    {
     "ename": "SyntaxError",
     "evalue": "invalid syntax (1000053011.py, line 1)",
     "output_type": "error",
     "traceback": [
      "\u001b[0;36m  Cell \u001b[0;32mIn[53], line 1\u001b[0;36m\u001b[0m\n\u001b[0;31m    preg|\u001b[0m\n\u001b[0m         ^\u001b[0m\n\u001b[0;31mSyntaxError\u001b[0m\u001b[0;31m:\u001b[0m invalid syntax\n"
     ]
    }
   ],
   "source": [
    "preg"
   ]
  },
  {
   "cell_type": "code",
   "execution_count": 52,
   "id": "663bdf17-2baf-4ac3-b0cc-0b14ff69f168",
   "metadata": {},
   "outputs": [
    {
     "ename": "AttributeError",
     "evalue": "'str' object has no attribute 'outcome'",
     "output_type": "error",
     "traceback": [
      "\u001b[0;31m---------------------------------------------------------------------------\u001b[0m",
      "\u001b[0;31mAttributeError\u001b[0m                            Traceback (most recent call last)",
      "Cell \u001b[0;32mIn[52], line 10\u001b[0m\n\u001b[1;32m      7\u001b[0m other_lengths \u001b[38;5;241m=\u001b[39m []\n\u001b[1;32m      9\u001b[0m \u001b[38;5;28;01mfor\u001b[39;00m record \u001b[38;5;129;01min\u001b[39;00m preg:\n\u001b[0;32m---> 10\u001b[0m     \u001b[38;5;28;01mif\u001b[39;00m \u001b[43mrecord\u001b[49m\u001b[38;5;241;43m.\u001b[39;49m\u001b[43moutcome\u001b[49m \u001b[38;5;241m!=\u001b[39m \u001b[38;5;241m1\u001b[39m:  \u001b[38;5;66;03m# only keep live births\u001b[39;00m\n\u001b[1;32m     11\u001b[0m         \u001b[38;5;28;01mcontinue\u001b[39;00m\n\u001b[1;32m     13\u001b[0m     \u001b[38;5;28;01mif\u001b[39;00m record\u001b[38;5;241m.\u001b[39mbirthord \u001b[38;5;241m==\u001b[39m \u001b[38;5;241m1\u001b[39m:\n",
      "\u001b[0;31mAttributeError\u001b[0m: 'str' object has no attribute 'outcome'"
     ]
    }
   ],
   "source": [
    "preg = nsfg.ReadFemPreg()\n",
    "live = preg[preg.outcome == 1]\n"
   ]
  },
  {
   "cell_type": "code",
   "execution_count": null,
   "id": "52b69b2a-9580-4c13-92b4-7a590a7e665c",
   "metadata": {},
   "outputs": [],
   "source": [
    "thinkplot.PrePlot(2, cols=2)\n",
    "thinkplot.Hist(first_pmf, align='right', width=0.45)\n",
    "thinkplot.Hist(other_pmf, align='left', width=0.45)\n",
    "thinkplot.Config(xlabel='weeks',\n",
    "ylabel='probability',\n",
    "axis=[27, 46, 0, 0.6])\n",
    "thinkplot.PrePlot(2)\n",
    "thinkplot.SubPlot(2)\n",
    "thinkplot.Pmfs([first_pmf, other_pmf])\n",
    "thinkplot.Show(xlabel='weeks',\n",
    "axis=[27, 46, 0, 0.6])\n",
    "# PrePlot takes optional parameters rows and cols to make a grid of figures,\n",
    "# in this case one row of two figures. The first figure (on the left) displays the\n",
    "# Pmfs using thinkplot.Hist, as we have seen before.\n",
    "# The second call to PrePlot resets the color generator. Then SubPlot\n",
    "# switches to the second figure (on the right) and displays the Pmfs using\n",
    "# thinkplot.Pmfs. I used the axis option to ensure that the two figures are\n",
    "# on the same axes, which is generally a good idea if you intend to compare\n",
    "# two figures."
   ]
  },
  {
   "cell_type": "code",
   "execution_count": null,
   "id": "df81c4e1-e207-432b-9aaf-539e399dfe31",
   "metadata": {},
   "outputs": [],
   "source": []
  }
 ],
 "metadata": {
  "kernelspec": {
   "display_name": "Python 3 (ipykernel)",
   "language": "python",
   "name": "python3"
  },
  "language_info": {
   "codemirror_mode": {
    "name": "ipython",
    "version": 3
   },
   "file_extension": ".py",
   "mimetype": "text/x-python",
   "name": "python",
   "nbconvert_exporter": "python",
   "pygments_lexer": "ipython3",
   "version": "3.10.18"
  }
 },
 "nbformat": 4,
 "nbformat_minor": 5
}
